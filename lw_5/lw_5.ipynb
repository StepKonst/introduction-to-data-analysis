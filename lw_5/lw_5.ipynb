{
 "nbformat": 4,
 "nbformat_minor": 0,
 "metadata": {
  "colab": {
   "provenance": [],
   "collapsed_sections": [
    "gfn1lNQy4pd-",
    "KXHgoxw-5uLs",
    "aZ8HNom491f_",
    "ON1xWKP2Wr9r",
    "KRIUgYHwlpiF",
    "7reC6ErRvo4y",
    "X6SFetf9zUWA",
    "X77OCxZXO2v1",
    "8CsAGkvJ0CYN",
    "gmEtXj3G4225",
    "kPdQTCg_6mTN",
    "j3v0YiC_IsaQ"
   ],
   "authorship_tag": "ABX9TyNywGLtaXDKomZa8TUaxAVG"
  },
  "kernelspec": {
   "name": "python3",
   "display_name": "Python 3"
  },
  "language_info": {
   "name": "python"
  }
 },
 "cells": [
  {
   "cell_type": "code",
   "execution_count": 1,
   "metadata": {
    "id": "RJYzprfp2zqI"
   },
   "outputs": [],
   "source": [
    "# Подключаем библиотеку для обработки и анализа данных\n",
    "import pandas as pd"
   ]
  },
  {
   "cell_type": "code",
   "source": [
    "# Загружаем датасет\n",
    "df_orders   = pd.read_csv('orders.csv', delimiter=',')\n",
    "df_visitors = pd.read_csv('visitors.csv', delimiter=',')\n",
    "df_logs_exp = pd.read_csv('logs_exp.csv', delimiter='\\t')"
   ],
   "metadata": {
    "id": "MspfNS0B4Kal"
   },
   "execution_count": 2,
   "outputs": []
  },
  {
   "cell_type": "code",
   "source": [
    "# Выводим информацию о данных датасета\n",
    "print(df_orders.info(),   end='\\n\\n')\n",
    "print(df_visitors.info(), end='\\n\\n')\n",
    "print(df_logs_exp.info(), end='\\n\\n')"
   ],
   "metadata": {
    "colab": {
     "base_uri": "https://localhost:8080/"
    },
    "id": "enJIamQ-4x4h",
    "executionInfo": {
     "status": "ok",
     "timestamp": 1670502856668,
     "user_tz": -180,
     "elapsed": 9,
     "user": {
      "displayName": "Egor Pl",
      "userId": "01211858907248154752"
     }
    },
    "outputId": "ac5f491c-e46c-47ad-9b78-ca2e4a365dae"
   },
   "execution_count": 3,
   "outputs": [
    {
     "name": "stdout",
     "output_type": "stream",
     "text": [
      "<class 'pandas.core.frame.DataFrame'>\n",
      "RangeIndex: 1197 entries, 0 to 1196\n",
      "Data columns (total 5 columns):\n",
      " #   Column         Non-Null Count  Dtype \n",
      "---  ------         --------------  ----- \n",
      " 0   transactionId  1197 non-null   int64 \n",
      " 1   visitorId      1197 non-null   int64 \n",
      " 2   date           1197 non-null   object\n",
      " 3   revenue        1197 non-null   int64 \n",
      " 4   group          1197 non-null   object\n",
      "dtypes: int64(3), object(2)\n",
      "memory usage: 46.9+ KB\n",
      "None\n",
      "\n",
      "<class 'pandas.core.frame.DataFrame'>\n",
      "RangeIndex: 62 entries, 0 to 61\n",
      "Data columns (total 3 columns):\n",
      " #   Column    Non-Null Count  Dtype \n",
      "---  ------    --------------  ----- \n",
      " 0   date      62 non-null     object\n",
      " 1   group     62 non-null     object\n",
      " 2   visitors  62 non-null     int64 \n",
      "dtypes: int64(1), object(2)\n",
      "memory usage: 1.6+ KB\n",
      "None\n",
      "\n",
      "<class 'pandas.core.frame.DataFrame'>\n",
      "RangeIndex: 244126 entries, 0 to 244125\n",
      "Data columns (total 4 columns):\n",
      " #   Column          Non-Null Count   Dtype \n",
      "---  ------          --------------   ----- \n",
      " 0   EventName       244126 non-null  object\n",
      " 1   DeviceIDHash    244126 non-null  int64 \n",
      " 2   EventTimestamp  244126 non-null  int64 \n",
      " 3   ExpId           244126 non-null  int64 \n",
      "dtypes: int64(3), object(1)\n",
      "memory usage: 7.5+ MB\n",
      "None\n",
      "\n"
     ]
    }
   ]
  },
  {
   "cell_type": "code",
   "source": [
    "# Выводим первые 5 строк датасета orders\n",
    "df_orders.head()"
   ],
   "metadata": {
    "colab": {
     "base_uri": "https://localhost:8080/",
     "height": 206
    },
    "id": "XNVjaLBYpHiN",
    "executionInfo": {
     "status": "ok",
     "timestamp": 1670502856669,
     "user_tz": -180,
     "elapsed": 7,
     "user": {
      "displayName": "Egor Pl",
      "userId": "01211858907248154752"
     }
    },
    "outputId": "cd4870d6-6581-4113-82f6-066245cba333"
   },
   "execution_count": 4,
   "outputs": [
    {
     "data": {
      "text/plain": "   transactionId   visitorId        date  revenue group\n0     3667963787  3312258926  2019-08-15     1650     B\n1     2804400009  3642806036  2019-08-15      730     B\n2     2961555356  4069496402  2019-08-15      400     A\n3     3797467345  1196621759  2019-08-15     9759     B\n4     2282983706  2322279887  2019-08-15     2308     B",
      "text/html": "<div>\n<style scoped>\n    .dataframe tbody tr th:only-of-type {\n        vertical-align: middle;\n    }\n\n    .dataframe tbody tr th {\n        vertical-align: top;\n    }\n\n    .dataframe thead th {\n        text-align: right;\n    }\n</style>\n<table border=\"1\" class=\"dataframe\">\n  <thead>\n    <tr style=\"text-align: right;\">\n      <th></th>\n      <th>transactionId</th>\n      <th>visitorId</th>\n      <th>date</th>\n      <th>revenue</th>\n      <th>group</th>\n    </tr>\n  </thead>\n  <tbody>\n    <tr>\n      <th>0</th>\n      <td>3667963787</td>\n      <td>3312258926</td>\n      <td>2019-08-15</td>\n      <td>1650</td>\n      <td>B</td>\n    </tr>\n    <tr>\n      <th>1</th>\n      <td>2804400009</td>\n      <td>3642806036</td>\n      <td>2019-08-15</td>\n      <td>730</td>\n      <td>B</td>\n    </tr>\n    <tr>\n      <th>2</th>\n      <td>2961555356</td>\n      <td>4069496402</td>\n      <td>2019-08-15</td>\n      <td>400</td>\n      <td>A</td>\n    </tr>\n    <tr>\n      <th>3</th>\n      <td>3797467345</td>\n      <td>1196621759</td>\n      <td>2019-08-15</td>\n      <td>9759</td>\n      <td>B</td>\n    </tr>\n    <tr>\n      <th>4</th>\n      <td>2282983706</td>\n      <td>2322279887</td>\n      <td>2019-08-15</td>\n      <td>2308</td>\n      <td>B</td>\n    </tr>\n  </tbody>\n</table>\n</div>"
     },
     "execution_count": 4,
     "metadata": {},
     "output_type": "execute_result"
    }
   ]
  },
  {
   "cell_type": "code",
   "source": [
    "# Выводим первые 5 строк датасета visitors\n",
    "df_visitors.head()"
   ],
   "metadata": {
    "colab": {
     "base_uri": "https://localhost:8080/",
     "height": 206
    },
    "id": "Ojh-zSpMpIG5",
    "executionInfo": {
     "status": "ok",
     "timestamp": 1670502857073,
     "user_tz": -180,
     "elapsed": 11,
     "user": {
      "displayName": "Egor Pl",
      "userId": "01211858907248154752"
     }
    },
    "outputId": "530a9971-8f7b-45b5-8da0-e3977af71008"
   },
   "execution_count": 5,
   "outputs": [
    {
     "data": {
      "text/plain": "         date group  visitors\n0  2019-08-01     A       719\n1  2019-08-02     A       619\n2  2019-08-03     A       507\n3  2019-08-04     A       717\n4  2019-08-05     A       756",
      "text/html": "<div>\n<style scoped>\n    .dataframe tbody tr th:only-of-type {\n        vertical-align: middle;\n    }\n\n    .dataframe tbody tr th {\n        vertical-align: top;\n    }\n\n    .dataframe thead th {\n        text-align: right;\n    }\n</style>\n<table border=\"1\" class=\"dataframe\">\n  <thead>\n    <tr style=\"text-align: right;\">\n      <th></th>\n      <th>date</th>\n      <th>group</th>\n      <th>visitors</th>\n    </tr>\n  </thead>\n  <tbody>\n    <tr>\n      <th>0</th>\n      <td>2019-08-01</td>\n      <td>A</td>\n      <td>719</td>\n    </tr>\n    <tr>\n      <th>1</th>\n      <td>2019-08-02</td>\n      <td>A</td>\n      <td>619</td>\n    </tr>\n    <tr>\n      <th>2</th>\n      <td>2019-08-03</td>\n      <td>A</td>\n      <td>507</td>\n    </tr>\n    <tr>\n      <th>3</th>\n      <td>2019-08-04</td>\n      <td>A</td>\n      <td>717</td>\n    </tr>\n    <tr>\n      <th>4</th>\n      <td>2019-08-05</td>\n      <td>A</td>\n      <td>756</td>\n    </tr>\n  </tbody>\n</table>\n</div>"
     },
     "execution_count": 5,
     "metadata": {},
     "output_type": "execute_result"
    }
   ]
  },
  {
   "cell_type": "code",
   "source": [
    "# Выводим первые 5 строк датасета logs_exp\n",
    "df_logs_exp.head()"
   ],
   "metadata": {
    "colab": {
     "base_uri": "https://localhost:8080/",
     "height": 206
    },
    "id": "eHJUfbG04wXd",
    "executionInfo": {
     "status": "ok",
     "timestamp": 1670502857074,
     "user_tz": -180,
     "elapsed": 11,
     "user": {
      "displayName": "Egor Pl",
      "userId": "01211858907248154752"
     }
    },
    "outputId": "9c24b87f-db7c-41b0-f6a6-79c1f7fa47ac"
   },
   "execution_count": 6,
   "outputs": [
    {
     "data": {
      "text/plain": "                 EventName         DeviceIDHash  EventTimestamp  ExpId\n0         MainScreenAppear  4575588528974610257      1564029816    246\n1         MainScreenAppear  7416695313311560658      1564053102    246\n2  PaymentScreenSuccessful  3518123091307005509      1564054127    248\n3         CartScreenAppear  3518123091307005509      1564054127    248\n4  PaymentScreenSuccessful  6217807653094995999      1564055322    248",
      "text/html": "<div>\n<style scoped>\n    .dataframe tbody tr th:only-of-type {\n        vertical-align: middle;\n    }\n\n    .dataframe tbody tr th {\n        vertical-align: top;\n    }\n\n    .dataframe thead th {\n        text-align: right;\n    }\n</style>\n<table border=\"1\" class=\"dataframe\">\n  <thead>\n    <tr style=\"text-align: right;\">\n      <th></th>\n      <th>EventName</th>\n      <th>DeviceIDHash</th>\n      <th>EventTimestamp</th>\n      <th>ExpId</th>\n    </tr>\n  </thead>\n  <tbody>\n    <tr>\n      <th>0</th>\n      <td>MainScreenAppear</td>\n      <td>4575588528974610257</td>\n      <td>1564029816</td>\n      <td>246</td>\n    </tr>\n    <tr>\n      <th>1</th>\n      <td>MainScreenAppear</td>\n      <td>7416695313311560658</td>\n      <td>1564053102</td>\n      <td>246</td>\n    </tr>\n    <tr>\n      <th>2</th>\n      <td>PaymentScreenSuccessful</td>\n      <td>3518123091307005509</td>\n      <td>1564054127</td>\n      <td>248</td>\n    </tr>\n    <tr>\n      <th>3</th>\n      <td>CartScreenAppear</td>\n      <td>3518123091307005509</td>\n      <td>1564054127</td>\n      <td>248</td>\n    </tr>\n    <tr>\n      <th>4</th>\n      <td>PaymentScreenSuccessful</td>\n      <td>6217807653094995999</td>\n      <td>1564055322</td>\n      <td>248</td>\n    </tr>\n  </tbody>\n</table>\n</div>"
     },
     "execution_count": 6,
     "metadata": {},
     "output_type": "execute_result"
    }
   ]
  },
  {
   "cell_type": "markdown",
   "source": [
    "### Вывод\n",
    "\n",
    "Ознакомившись с данные на первый взгляд с ними все хорошо только названия столбцов нужно привести к единому змеиному регистру, переименовывать не нужно так как названия столбцов соответствуют содержимому."
   ],
   "metadata": {
    "id": "wZUxmM5ozb9F"
   }
  },
  {
   "cell_type": "markdown",
   "source": [
    "# Предварительная подготовка данных"
   ],
   "metadata": {
    "id": "gfn1lNQy4pd-"
   }
  },
  {
   "cell_type": "markdown",
   "source": [
    "## Устранение проблем названий столбцов"
   ],
   "metadata": {
    "id": "KXHgoxw-5uLs"
   }
  },
  {
   "cell_type": "code",
   "source": [
    "# Вывели названия столбцов таблицы\n",
    "print('Столбцы logs_exp.csv:', *df_logs_exp.columns.tolist(), sep='\\n', end='\\n\\n')\n",
    "print('Столбцы orders.csv:',   *df_orders.columns.tolist(),   sep='\\n', end='\\n\\n')\n",
    "print('Столбцы visitors.csv:', *df_visitors.columns.tolist(), sep='\\n', end='\\n\\n')"
   ],
   "metadata": {
    "colab": {
     "base_uri": "https://localhost:8080/"
    },
    "id": "I_pyPFUO6ZRW",
    "executionInfo": {
     "status": "ok",
     "timestamp": 1670502857074,
     "user_tz": -180,
     "elapsed": 9,
     "user": {
      "displayName": "Egor Pl",
      "userId": "01211858907248154752"
     }
    },
    "outputId": "327e7e09-a876-4ae9-8864-0e56e43381df"
   },
   "execution_count": 7,
   "outputs": [
    {
     "name": "stdout",
     "output_type": "stream",
     "text": [
      "Столбцы logs_exp.csv:\n",
      "EventName\n",
      "DeviceIDHash\n",
      "EventTimestamp\n",
      "ExpId\n",
      "\n",
      "Столбцы orders.csv:\n",
      "transactionId\n",
      "visitorId\n",
      "date\n",
      "revenue\n",
      "group\n",
      "\n",
      "Столбцы visitors.csv:\n",
      "date\n",
      "group\n",
      "visitors\n",
      "\n"
     ]
    }
   ]
  },
  {
   "cell_type": "code",
   "source": [
    "# Исправляем названия столбцов\n",
    "df_logs_exp.columns = ['event_name', 'device_id_hash', 'event_timestamp', 'exp_id']\n",
    "df_orders.columns = ['transaction_id', 'visitor_id', 'date', 'revenue', 'group']"
   ],
   "metadata": {
    "id": "YOCzdr3HNEM5"
   },
   "execution_count": 8,
   "outputs": []
  },
  {
   "cell_type": "markdown",
   "source": [
    "### Вывод\n",
    "\n",
    "Привели названия столбцов к змеиному регистру."
   ],
   "metadata": {
    "id": "ncrcziujkfMo"
   }
  },
  {
   "cell_type": "markdown",
   "source": [
    "## Обработка пропусков"
   ],
   "metadata": {
    "id": "aZ8HNom491f_"
   }
  },
  {
   "cell_type": "code",
   "source": [
    "# Поиск пустых значений\n",
    "print('Пропуски в столбцах logs_exp.csv:', df_logs_exp.isnull().sum(), sep='\\n', end='\\n\\n')\n",
    "print('Пропуски в столбцах orders.csv:',   df_orders.isnull().sum(),   sep='\\n', end='\\n\\n')\n",
    "print('Пропуски в столбцах visitors.csv:', df_visitors.isnull().sum(), sep='\\n', end='\\n\\n')"
   ],
   "metadata": {
    "colab": {
     "base_uri": "https://localhost:8080/"
    },
    "id": "i3QYpMwV-3Jj",
    "executionInfo": {
     "status": "ok",
     "timestamp": 1670502857562,
     "user_tz": -180,
     "elapsed": 494,
     "user": {
      "displayName": "Egor Pl",
      "userId": "01211858907248154752"
     }
    },
    "outputId": "f1f2164f-0df5-4396-95f4-338791b1a541"
   },
   "execution_count": 9,
   "outputs": [
    {
     "name": "stdout",
     "output_type": "stream",
     "text": [
      "Пропуски в столбцах logs_exp.csv:\n",
      "event_name         0\n",
      "device_id_hash     0\n",
      "event_timestamp    0\n",
      "exp_id             0\n",
      "dtype: int64\n",
      "\n",
      "Пропуски в столбцах orders.csv:\n",
      "transaction_id    0\n",
      "visitor_id        0\n",
      "date              0\n",
      "revenue           0\n",
      "group             0\n",
      "dtype: int64\n",
      "\n",
      "Пропуски в столбцах visitors.csv:\n",
      "date        0\n",
      "group       0\n",
      "visitors    0\n",
      "dtype: int64\n",
      "\n"
     ]
    }
   ]
  },
  {
   "cell_type": "markdown",
   "source": [
    "### Вывод\n",
    "\n",
    "Пропусков в дата сете не оказалось, исправлять ничего не нужно – это упрощает нам работу."
   ],
   "metadata": {
    "id": "sPIIKNWNkwqp"
   }
  },
  {
   "cell_type": "markdown",
   "source": [
    "## Устранение дубликатов "
   ],
   "metadata": {
    "id": "ON1xWKP2Wr9r"
   }
  },
  {
   "cell_type": "markdown",
   "source": [
    "### Явные дубликаты"
   ],
   "metadata": {
    "id": "KRIUgYHwlpiF"
   }
  },
  {
   "cell_type": "code",
   "source": [
    "# проверим, есть ли дубликаты в таблице\n",
    "print('Кол-во явных дубликатов в logs_exp.csv:', df_logs_exp.duplicated().sum())\n",
    "print('Кол-во явных дубликатов в orders.csv:',   df_orders.duplicated().sum())\n",
    "print('Кол-во явных дубликатов в visitors.csv:', df_visitors.duplicated().sum())"
   ],
   "metadata": {
    "colab": {
     "base_uri": "https://localhost:8080/"
    },
    "id": "08h06GBoW0Vj",
    "executionInfo": {
     "status": "ok",
     "timestamp": 1670502858160,
     "user_tz": -180,
     "elapsed": 603,
     "user": {
      "displayName": "Egor Pl",
      "userId": "01211858907248154752"
     }
    },
    "outputId": "b5c0bc02-a54e-43d0-8c44-6a241b472a06"
   },
   "execution_count": 10,
   "outputs": [
    {
     "name": "stdout",
     "output_type": "stream",
     "text": [
      "Кол-во явных дубликатов в logs_exp.csv: 413\n",
      "Кол-во явных дубликатов в orders.csv: 0\n",
      "Кол-во явных дубликатов в visitors.csv: 0\n"
     ]
    }
   ]
  },
  {
   "cell_type": "code",
   "source": [
    "# Удаляем дубликаты\n",
    "df_logs_exp.drop_duplicates(inplace=True)\n",
    "print('Кол-во явных дубликатов в logs_exp.csv:', df_logs_exp.duplicated().sum())"
   ],
   "metadata": {
    "colab": {
     "base_uri": "https://localhost:8080/"
    },
    "id": "w-bCFLfwwA4k",
    "executionInfo": {
     "status": "ok",
     "timestamp": 1670502858161,
     "user_tz": -180,
     "elapsed": 13,
     "user": {
      "displayName": "Egor Pl",
      "userId": "01211858907248154752"
     }
    },
    "outputId": "a4aa72ba-0543-4867-c968-4587a831a46d"
   },
   "execution_count": 11,
   "outputs": [
    {
     "name": "stdout",
     "output_type": "stream",
     "text": [
      "Кол-во явных дубликатов в logs_exp.csv: 0\n"
     ]
    }
   ]
  },
  {
   "cell_type": "markdown",
   "source": [
    "### Вывод\n",
    "\n",
    "Удалили явные дубликаты из датафрейма logs_exp.csv"
   ],
   "metadata": {
    "id": "m5aBtBUVduTp"
   }
  },
  {
   "cell_type": "markdown",
   "source": [
    "### Удаление неявных дубликатов"
   ],
   "metadata": {
    "id": "A3lgpFTlYQkr"
   }
  },
  {
   "cell_type": "code",
   "source": [
    "# Поиск неявных дубликатов\n",
    "print(*df_logs_exp['event_name'].unique(), sep='\\n')"
   ],
   "metadata": {
    "colab": {
     "base_uri": "https://localhost:8080/"
    },
    "id": "XjPaOyyLuA0q",
    "executionInfo": {
     "status": "ok",
     "timestamp": 1670502858161,
     "user_tz": -180,
     "elapsed": 10,
     "user": {
      "displayName": "Egor Pl",
      "userId": "01211858907248154752"
     }
    },
    "outputId": "898bdf2b-f276-45a4-af65-b50cd18af147"
   },
   "execution_count": 12,
   "outputs": [
    {
     "name": "stdout",
     "output_type": "stream",
     "text": [
      "MainScreenAppear\n",
      "PaymentScreenSuccessful\n",
      "CartScreenAppear\n",
      "OffersScreenAppear\n",
      "Tutorial\n"
     ]
    }
   ]
  },
  {
   "cell_type": "code",
   "source": [
    "# Поиск неявных дубликатов\n",
    "print(*df_logs_exp['exp_id'].unique(), sep='\\n')"
   ],
   "metadata": {
    "colab": {
     "base_uri": "https://localhost:8080/"
    },
    "id": "R07a00tnxfds",
    "executionInfo": {
     "status": "ok",
     "timestamp": 1670502858161,
     "user_tz": -180,
     "elapsed": 9,
     "user": {
      "displayName": "Egor Pl",
      "userId": "01211858907248154752"
     }
    },
    "outputId": "5c4894e1-36fd-4ef0-bfeb-2735189df03a"
   },
   "execution_count": 13,
   "outputs": [
    {
     "name": "stdout",
     "output_type": "stream",
     "text": [
      "246\n",
      "248\n",
      "247\n"
     ]
    }
   ]
  },
  {
   "cell_type": "code",
   "source": [
    "# Поиск неявных дубликатов\n",
    "print(*df_orders['group'].unique(), sep='\\n')"
   ],
   "metadata": {
    "colab": {
     "base_uri": "https://localhost:8080/"
    },
    "id": "XF2UXBh0yM1W",
    "executionInfo": {
     "status": "ok",
     "timestamp": 1670502858163,
     "user_tz": -180,
     "elapsed": 10,
     "user": {
      "displayName": "Egor Pl",
      "userId": "01211858907248154752"
     }
    },
    "outputId": "9e38c3cf-1a88-46a5-e887-9e1521e0c0bd"
   },
   "execution_count": 14,
   "outputs": [
    {
     "name": "stdout",
     "output_type": "stream",
     "text": [
      "B\n",
      "A\n"
     ]
    }
   ]
  },
  {
   "cell_type": "code",
   "source": [
    "# Поиск неявных дубликатов\n",
    "print(*df_visitors['group'].unique(), sep='\\n')"
   ],
   "metadata": {
    "colab": {
     "base_uri": "https://localhost:8080/"
    },
    "id": "9bVh1OR7yUIJ",
    "executionInfo": {
     "status": "ok",
     "timestamp": 1670502858163,
     "user_tz": -180,
     "elapsed": 9,
     "user": {
      "displayName": "Egor Pl",
      "userId": "01211858907248154752"
     }
    },
    "outputId": "1f6c5719-3388-4214-cd11-63fbf8e3a8c9"
   },
   "execution_count": 15,
   "outputs": [
    {
     "name": "stdout",
     "output_type": "stream",
     "text": [
      "A\n",
      "B\n"
     ]
    }
   ]
  },
  {
   "cell_type": "markdown",
   "source": [
    "Неявных дубликатов не обнаруженно"
   ],
   "metadata": {
    "id": "VHOtyQ3gQcvq"
   }
  },
  {
   "cell_type": "markdown",
   "source": [
    "## Исправляем типы данных"
   ],
   "metadata": {
    "id": "7reC6ErRvo4y"
   }
  },
  {
   "cell_type": "code",
   "source": [
    "# Проверка типов данных\n",
    "df_logs_exp.dtypes"
   ],
   "metadata": {
    "colab": {
     "base_uri": "https://localhost:8080/"
    },
    "id": "wq8p7rbTpzBf",
    "executionInfo": {
     "status": "ok",
     "timestamp": 1670502858163,
     "user_tz": -180,
     "elapsed": 8,
     "user": {
      "displayName": "Egor Pl",
      "userId": "01211858907248154752"
     }
    },
    "outputId": "3d0268f8-b281-4dfc-f137-d86b95b3970b"
   },
   "execution_count": 16,
   "outputs": [
    {
     "data": {
      "text/plain": "event_name         object\ndevice_id_hash      int64\nevent_timestamp     int64\nexp_id              int64\ndtype: object"
     },
     "execution_count": 16,
     "metadata": {},
     "output_type": "execute_result"
    }
   ]
  },
  {
   "cell_type": "code",
   "source": [
    "# Установка необходимых типов данных\n",
    "df_logs_exp['event_name'] = df_logs_exp['event_name'].astype('string')\n",
    "df_logs_exp['event_timestamp'] = pd.to_datetime(df_logs_exp['event_timestamp'], unit='s')"
   ],
   "metadata": {
    "id": "NbGfATbxqIue"
   },
   "execution_count": 17,
   "outputs": []
  },
  {
   "cell_type": "code",
   "source": [
    "# Проверка типов данных\n",
    "df_orders.dtypes"
   ],
   "metadata": {
    "colab": {
     "base_uri": "https://localhost:8080/"
    },
    "id": "x4BiYh_LqCDY",
    "executionInfo": {
     "status": "ok",
     "timestamp": 1670502858594,
     "user_tz": -180,
     "elapsed": 438,
     "user": {
      "displayName": "Egor Pl",
      "userId": "01211858907248154752"
     }
    },
    "outputId": "17ea149c-008f-4415-ed4a-df98be88e8e6"
   },
   "execution_count": 18,
   "outputs": [
    {
     "data": {
      "text/plain": "transaction_id     int64\nvisitor_id         int64\ndate              object\nrevenue            int64\ngroup             object\ndtype: object"
     },
     "execution_count": 18,
     "metadata": {},
     "output_type": "execute_result"
    }
   ]
  },
  {
   "cell_type": "code",
   "source": [
    "# Установка необходимых типов данных\n",
    "df_orders['date'] = df_orders['date'].astype('datetime64[ns]')\n",
    "df_orders['group'] = df_orders['group'].astype('string')"
   ],
   "metadata": {
    "id": "QbUBhCXtssql"
   },
   "execution_count": 19,
   "outputs": []
  },
  {
   "cell_type": "code",
   "source": [
    "# Проверка типов данных\n",
    "df_visitors.dtypes"
   ],
   "metadata": {
    "colab": {
     "base_uri": "https://localhost:8080/"
    },
    "id": "2Lnc-b_OqDIB",
    "executionInfo": {
     "status": "ok",
     "timestamp": 1670502858594,
     "user_tz": -180,
     "elapsed": 14,
     "user": {
      "displayName": "Egor Pl",
      "userId": "01211858907248154752"
     }
    },
    "outputId": "13334137-c0de-45e1-dc69-8edd093a09a2"
   },
   "execution_count": 20,
   "outputs": [
    {
     "data": {
      "text/plain": "date        object\ngroup       object\nvisitors     int64\ndtype: object"
     },
     "execution_count": 20,
     "metadata": {},
     "output_type": "execute_result"
    }
   ]
  },
  {
   "cell_type": "code",
   "source": [
    "# Установка необходимых типов данных\n",
    "df_visitors['date'] = df_visitors['date'].astype('datetime64[ns]')\n",
    "df_visitors['group'] = df_visitors['group'].astype('string')"
   ],
   "metadata": {
    "id": "nhalyOUip2GF"
   },
   "execution_count": 21,
   "outputs": []
  },
  {
   "cell_type": "markdown",
   "source": [
    "# Первая часть"
   ],
   "metadata": {
    "id": "REmCb7JkPB7j"
   }
  },
  {
   "cell_type": "markdown",
   "source": [
    "## Поиск и удаление пересекающихся пользователей"
   ],
   "metadata": {
    "id": "X6SFetf9zUWA"
   }
  },
  {
   "cell_type": "code",
   "source": [
    "# Выделяем группы А и В теста\n",
    "df_orders_A = df_orders.loc[df_orders['group'] == 'A']\n",
    "df_orders_B = df_orders.loc[df_orders['group'] == 'B']\n",
    "\n",
    "# Находим пересечения пользователей\n",
    "df_orders_intr = pd.merge(df_orders_A, df_orders_B, how ='inner', on =['visitor_id'])\n",
    "df_orders_intr"
   ],
   "metadata": {
    "colab": {
     "base_uri": "https://localhost:8080/"
    },
    "id": "QMifETA5y2Ss",
    "executionInfo": {
     "status": "ok",
     "timestamp": 1670502858595,
     "user_tz": -180,
     "elapsed": 14,
     "user": {
      "displayName": "Egor Pl",
      "userId": "01211858907248154752"
     }
    },
    "outputId": "b7baf780-48bf-47ff-dd41-6873c22f2df0"
   },
   "execution_count": 22,
   "outputs": [
    {
     "data": {
      "text/plain": "     transaction_id_x  visitor_id     date_x  revenue_x group_x  \\\n0          2961555356  4069496402 2019-08-15        400       A   \n1          2223239646   199603092 2019-08-15       3488       A   \n2            62794304   199603092 2019-08-22       6976       A   \n3          2971973105   199603092 2019-08-27       2790       A   \n4          1941707234   199603092 2019-08-12       6438       A   \n..                ...         ...        ...        ...     ...   \n178        3757656646  4186807279 2019-08-14       4990       A   \n179        3757656646  4186807279 2019-08-14       4990       A   \n180        3612788481  2712142231 2019-08-14       2490       A   \n181        4052155355  2949041841 2019-08-14        190       A   \n182        1458356232   963407295 2019-08-14       4940       A   \n\n     transaction_id_y     date_y  revenue_y group_y  \n0          1473132782 2019-08-12        640       B  \n1           437656952 2019-08-02       3488       B  \n2           437656952 2019-08-02       3488       B  \n3           437656952 2019-08-02       3488       B  \n4           437656952 2019-08-02       3488       B  \n..                ...        ...        ...     ...  \n178        1759418862 2019-08-21      18560       B  \n179         380064637 2019-08-27      13740       B  \n180        1251767592 2019-08-16        790       B  \n181        1329499668 2019-08-14      10380       B  \n182        2904772834 2019-08-15        300       B  \n\n[183 rows x 9 columns]",
      "text/html": "<div>\n<style scoped>\n    .dataframe tbody tr th:only-of-type {\n        vertical-align: middle;\n    }\n\n    .dataframe tbody tr th {\n        vertical-align: top;\n    }\n\n    .dataframe thead th {\n        text-align: right;\n    }\n</style>\n<table border=\"1\" class=\"dataframe\">\n  <thead>\n    <tr style=\"text-align: right;\">\n      <th></th>\n      <th>transaction_id_x</th>\n      <th>visitor_id</th>\n      <th>date_x</th>\n      <th>revenue_x</th>\n      <th>group_x</th>\n      <th>transaction_id_y</th>\n      <th>date_y</th>\n      <th>revenue_y</th>\n      <th>group_y</th>\n    </tr>\n  </thead>\n  <tbody>\n    <tr>\n      <th>0</th>\n      <td>2961555356</td>\n      <td>4069496402</td>\n      <td>2019-08-15</td>\n      <td>400</td>\n      <td>A</td>\n      <td>1473132782</td>\n      <td>2019-08-12</td>\n      <td>640</td>\n      <td>B</td>\n    </tr>\n    <tr>\n      <th>1</th>\n      <td>2223239646</td>\n      <td>199603092</td>\n      <td>2019-08-15</td>\n      <td>3488</td>\n      <td>A</td>\n      <td>437656952</td>\n      <td>2019-08-02</td>\n      <td>3488</td>\n      <td>B</td>\n    </tr>\n    <tr>\n      <th>2</th>\n      <td>62794304</td>\n      <td>199603092</td>\n      <td>2019-08-22</td>\n      <td>6976</td>\n      <td>A</td>\n      <td>437656952</td>\n      <td>2019-08-02</td>\n      <td>3488</td>\n      <td>B</td>\n    </tr>\n    <tr>\n      <th>3</th>\n      <td>2971973105</td>\n      <td>199603092</td>\n      <td>2019-08-27</td>\n      <td>2790</td>\n      <td>A</td>\n      <td>437656952</td>\n      <td>2019-08-02</td>\n      <td>3488</td>\n      <td>B</td>\n    </tr>\n    <tr>\n      <th>4</th>\n      <td>1941707234</td>\n      <td>199603092</td>\n      <td>2019-08-12</td>\n      <td>6438</td>\n      <td>A</td>\n      <td>437656952</td>\n      <td>2019-08-02</td>\n      <td>3488</td>\n      <td>B</td>\n    </tr>\n    <tr>\n      <th>...</th>\n      <td>...</td>\n      <td>...</td>\n      <td>...</td>\n      <td>...</td>\n      <td>...</td>\n      <td>...</td>\n      <td>...</td>\n      <td>...</td>\n      <td>...</td>\n    </tr>\n    <tr>\n      <th>178</th>\n      <td>3757656646</td>\n      <td>4186807279</td>\n      <td>2019-08-14</td>\n      <td>4990</td>\n      <td>A</td>\n      <td>1759418862</td>\n      <td>2019-08-21</td>\n      <td>18560</td>\n      <td>B</td>\n    </tr>\n    <tr>\n      <th>179</th>\n      <td>3757656646</td>\n      <td>4186807279</td>\n      <td>2019-08-14</td>\n      <td>4990</td>\n      <td>A</td>\n      <td>380064637</td>\n      <td>2019-08-27</td>\n      <td>13740</td>\n      <td>B</td>\n    </tr>\n    <tr>\n      <th>180</th>\n      <td>3612788481</td>\n      <td>2712142231</td>\n      <td>2019-08-14</td>\n      <td>2490</td>\n      <td>A</td>\n      <td>1251767592</td>\n      <td>2019-08-16</td>\n      <td>790</td>\n      <td>B</td>\n    </tr>\n    <tr>\n      <th>181</th>\n      <td>4052155355</td>\n      <td>2949041841</td>\n      <td>2019-08-14</td>\n      <td>190</td>\n      <td>A</td>\n      <td>1329499668</td>\n      <td>2019-08-14</td>\n      <td>10380</td>\n      <td>B</td>\n    </tr>\n    <tr>\n      <th>182</th>\n      <td>1458356232</td>\n      <td>963407295</td>\n      <td>2019-08-14</td>\n      <td>4940</td>\n      <td>A</td>\n      <td>2904772834</td>\n      <td>2019-08-15</td>\n      <td>300</td>\n      <td>B</td>\n    </tr>\n  </tbody>\n</table>\n<p>183 rows × 9 columns</p>\n</div>"
     },
     "execution_count": 22,
     "metadata": {},
     "output_type": "execute_result"
    }
   ]
  },
  {
   "cell_type": "code",
   "source": [
    "# # Созраняем копию дата фрейма без пересечаний пользователей\n",
    "# df_orders_no_inter = df_orders.loc[~df_orders['visitors'].isin(df_orders_intr['visitors'])]\n",
    "# df_orders_no_inter.info()\n",
    "\n",
    "# Удаляем пересечения пользователей\n",
    "df_orders = df_orders.drop( df_orders.loc[df_orders['visitor_id'].isin(df_orders_intr['visitor_id'])].index )\n",
    "\n",
    "\n",
    "# Проверка удаления пересечений пользователей\n",
    "print('Кол-во пересечений: ', len( pd.merge(df_orders.loc[df_orders['group'] == 'A']\n",
    "                                           ,df_orders.loc[df_orders['group'] == 'B']\n",
    "                                           ,how ='inner', on =['visitor_id']) ) )"
   ],
   "metadata": {
    "colab": {
     "base_uri": "https://localhost:8080/"
    },
    "id": "9C4IUQxdLbYD",
    "executionInfo": {
     "status": "ok",
     "timestamp": 1670502858595,
     "user_tz": -180,
     "elapsed": 13,
     "user": {
      "displayName": "Egor Pl",
      "userId": "01211858907248154752"
     }
    },
    "outputId": "8def1159-4eb5-407f-f3c2-ec560ca56be8"
   },
   "execution_count": 23,
   "outputs": [
    {
     "name": "stdout",
     "output_type": "stream",
     "text": [
      "Кол-во пересечений:  0\n"
     ]
    }
   ]
  },
  {
   "cell_type": "code",
   "source": [
    "# Выделяем группы А и В теста\n",
    "df_visitors_A = df_visitors.loc[df_visitors['group'] == 'A']\n",
    "df_visitors_B = df_visitors.loc[df_visitors['group'] == 'B']\n",
    "\n",
    "# Находим пересечения пользователей\n",
    "df_visitors_intr = pd.merge(df_visitors_A, df_visitors_B, how ='inner', on =['visitors'])\n",
    "df_visitors_intr"
   ],
   "metadata": {
    "colab": {
     "base_uri": "https://localhost:8080/"
    },
    "id": "-0dW4bq_u0mN",
    "executionInfo": {
     "status": "ok",
     "timestamp": 1670502858596,
     "user_tz": -180,
     "elapsed": 13,
     "user": {
      "displayName": "Egor Pl",
      "userId": "01211858907248154752"
     }
    },
    "outputId": "4a57fbe0-9c22-4c38-9db5-3dbf14b0562a"
   },
   "execution_count": 24,
   "outputs": [
    {
     "data": {
      "text/plain": "      date_x group_x  visitors     date_y group_y\n0 2019-08-08       A       610 2019-08-09       B\n1 2019-08-11       A       718 2019-08-31       B\n2 2019-08-30       A       490 2019-08-30       B",
      "text/html": "<div>\n<style scoped>\n    .dataframe tbody tr th:only-of-type {\n        vertical-align: middle;\n    }\n\n    .dataframe tbody tr th {\n        vertical-align: top;\n    }\n\n    .dataframe thead th {\n        text-align: right;\n    }\n</style>\n<table border=\"1\" class=\"dataframe\">\n  <thead>\n    <tr style=\"text-align: right;\">\n      <th></th>\n      <th>date_x</th>\n      <th>group_x</th>\n      <th>visitors</th>\n      <th>date_y</th>\n      <th>group_y</th>\n    </tr>\n  </thead>\n  <tbody>\n    <tr>\n      <th>0</th>\n      <td>2019-08-08</td>\n      <td>A</td>\n      <td>610</td>\n      <td>2019-08-09</td>\n      <td>B</td>\n    </tr>\n    <tr>\n      <th>1</th>\n      <td>2019-08-11</td>\n      <td>A</td>\n      <td>718</td>\n      <td>2019-08-31</td>\n      <td>B</td>\n    </tr>\n    <tr>\n      <th>2</th>\n      <td>2019-08-30</td>\n      <td>A</td>\n      <td>490</td>\n      <td>2019-08-30</td>\n      <td>B</td>\n    </tr>\n  </tbody>\n</table>\n</div>"
     },
     "execution_count": 24,
     "metadata": {},
     "output_type": "execute_result"
    }
   ]
  },
  {
   "cell_type": "code",
   "source": [
    "# # Создаем копию дата фрейма без пересечений пользователей\n",
    "\n",
    "# Удаляем пересечения пользователей\n",
    "df_visitors = df_visitors.drop( df_visitors.loc[df_visitors['visitors'].isin(df_visitors_intr['visitors'])].index )\n",
    "\n",
    "\n",
    "# Проверка удаления пересечений пользователей\n",
    "print('Кол-во пересечений: ', len( pd.merge(df_visitors.loc[df_visitors['group']=='A']\n",
    "                                           ,df_visitors.loc[df_visitors['group']=='B']\n",
    "                                           ,how='inner', on=['visitors']) ) )"
   ],
   "metadata": {
    "colab": {
     "base_uri": "https://localhost:8080/"
    },
    "id": "BkSLgIwIvWQy",
    "executionInfo": {
     "status": "ok",
     "timestamp": 1670502858596,
     "user_tz": -180,
     "elapsed": 11,
     "user": {
      "displayName": "Egor Pl",
      "userId": "01211858907248154752"
     }
    },
    "outputId": "ff8a8d6c-9037-4be7-b9a8-7727edbbf1be"
   },
   "execution_count": 25,
   "outputs": [
    {
     "name": "stdout",
     "output_type": "stream",
     "text": [
      "Кол-во пересечений:  0\n"
     ]
    }
   ]
  },
  {
   "cell_type": "markdown",
   "source": [
    "В обоих датафреймах были обнаруженны пересечения пользователей которые пришлось удалять для обеспечения корректности последующего анализа."
   ],
   "metadata": {
    "id": "GhTwGkYKrgYc"
   }
  },
  {
   "cell_type": "markdown",
   "source": [
    "## Создание массива уникальных пар значений дат и групп теста"
   ],
   "metadata": {
    "id": "X77OCxZXO2v1"
   }
  },
  {
   "cell_type": "code",
   "source": [
    "datesGroups = df_orders[['date','group']].drop_duplicates()\n",
    "datesGroups"
   ],
   "metadata": {
    "colab": {
     "base_uri": "https://localhost:8080/"
    },
    "id": "9QvXPW6NO2VU",
    "executionInfo": {
     "status": "ok",
     "timestamp": 1670502858596,
     "user_tz": -180,
     "elapsed": 10,
     "user": {
      "displayName": "Egor Pl",
      "userId": "01211858907248154752"
     }
    },
    "outputId": "c8318628-0f57-4762-b069-c7df9c71afa5"
   },
   "execution_count": 26,
   "outputs": [
    {
     "data": {
      "text/plain": "           date group\n0    2019-08-15     B\n7    2019-08-15     A\n45   2019-08-16     A\n47   2019-08-16     B\n55   2019-08-01     A\n...         ...   ...\n1068 2019-08-12     A\n1114 2019-08-13     B\n1116 2019-08-13     A\n1149 2019-08-14     B\n1150 2019-08-14     A\n\n[62 rows x 2 columns]",
      "text/html": "<div>\n<style scoped>\n    .dataframe tbody tr th:only-of-type {\n        vertical-align: middle;\n    }\n\n    .dataframe tbody tr th {\n        vertical-align: top;\n    }\n\n    .dataframe thead th {\n        text-align: right;\n    }\n</style>\n<table border=\"1\" class=\"dataframe\">\n  <thead>\n    <tr style=\"text-align: right;\">\n      <th></th>\n      <th>date</th>\n      <th>group</th>\n    </tr>\n  </thead>\n  <tbody>\n    <tr>\n      <th>0</th>\n      <td>2019-08-15</td>\n      <td>B</td>\n    </tr>\n    <tr>\n      <th>7</th>\n      <td>2019-08-15</td>\n      <td>A</td>\n    </tr>\n    <tr>\n      <th>45</th>\n      <td>2019-08-16</td>\n      <td>A</td>\n    </tr>\n    <tr>\n      <th>47</th>\n      <td>2019-08-16</td>\n      <td>B</td>\n    </tr>\n    <tr>\n      <th>55</th>\n      <td>2019-08-01</td>\n      <td>A</td>\n    </tr>\n    <tr>\n      <th>...</th>\n      <td>...</td>\n      <td>...</td>\n    </tr>\n    <tr>\n      <th>1068</th>\n      <td>2019-08-12</td>\n      <td>A</td>\n    </tr>\n    <tr>\n      <th>1114</th>\n      <td>2019-08-13</td>\n      <td>B</td>\n    </tr>\n    <tr>\n      <th>1116</th>\n      <td>2019-08-13</td>\n      <td>A</td>\n    </tr>\n    <tr>\n      <th>1149</th>\n      <td>2019-08-14</td>\n      <td>B</td>\n    </tr>\n    <tr>\n      <th>1150</th>\n      <td>2019-08-14</td>\n      <td>A</td>\n    </tr>\n  </tbody>\n</table>\n<p>62 rows × 2 columns</p>\n</div>"
     },
     "execution_count": 26,
     "metadata": {},
     "output_type": "execute_result"
    }
   ]
  },
  {
   "cell_type": "markdown",
   "source": [
    "## Получаем агрегированные кумулятивные данные о заказах по дням "
   ],
   "metadata": {
    "id": "8CsAGkvJ0CYN"
   }
  },
  {
   "cell_type": "code",
   "source": [
    "import numpy as np\n",
    "\n",
    "\n",
    "ordersAggregated = datesGroups.apply(\n",
    "      lambda x: df_orders[\n",
    "              np.logical_and(df_orders['date']  <= x['date'],\n",
    "                             df_orders['group'] == x['group'] )\n",
    "          ].agg({'date'           : 'max',\n",
    "                 'group'          : 'max',\n",
    "                 'transaction_id' : 'nunique',\n",
    "                 'visitor_id'     : 'nunique',\n",
    "                 'revenue'        : 'sum'}\n",
    "               ),\n",
    "      axis=1\n",
    ").sort_values(by=['date', 'group'])\n",
    "\n",
    "# Выводим результат\n",
    "ordersAggregated"
   ],
   "metadata": {
    "colab": {
     "base_uri": "https://localhost:8080/"
    },
    "id": "fKJOnmcF0TJb",
    "executionInfo": {
     "status": "ok",
     "timestamp": 1670502859211,
     "user_tz": -180,
     "elapsed": 624,
     "user": {
      "displayName": "Egor Pl",
      "userId": "01211858907248154752"
     }
    },
    "outputId": "a9382475-b953-44d7-91f3-d9e9fff30ca4"
   },
   "execution_count": 27,
   "outputs": [
    {
     "data": {
      "text/plain": "          date group  transaction_id  visitor_id  revenue\n55  2019-08-01     A              23          19   142779\n66  2019-08-01     B              17          17    59758\n175 2019-08-02     A              42          36   234381\n173 2019-08-02     B              40          39   221801\n291 2019-08-03     A              66          60   346854\n..         ...   ...             ...         ...      ...\n533 2019-08-29     B             510         490  4746610\n757 2019-08-30     A             460         437  3311413\n690 2019-08-30     B             531         511  4955833\n958 2019-08-31     A             468         445  3364656\n930 2019-08-31     B             548         528  5068972\n\n[62 rows x 5 columns]",
      "text/html": "<div>\n<style scoped>\n    .dataframe tbody tr th:only-of-type {\n        vertical-align: middle;\n    }\n\n    .dataframe tbody tr th {\n        vertical-align: top;\n    }\n\n    .dataframe thead th {\n        text-align: right;\n    }\n</style>\n<table border=\"1\" class=\"dataframe\">\n  <thead>\n    <tr style=\"text-align: right;\">\n      <th></th>\n      <th>date</th>\n      <th>group</th>\n      <th>transaction_id</th>\n      <th>visitor_id</th>\n      <th>revenue</th>\n    </tr>\n  </thead>\n  <tbody>\n    <tr>\n      <th>55</th>\n      <td>2019-08-01</td>\n      <td>A</td>\n      <td>23</td>\n      <td>19</td>\n      <td>142779</td>\n    </tr>\n    <tr>\n      <th>66</th>\n      <td>2019-08-01</td>\n      <td>B</td>\n      <td>17</td>\n      <td>17</td>\n      <td>59758</td>\n    </tr>\n    <tr>\n      <th>175</th>\n      <td>2019-08-02</td>\n      <td>A</td>\n      <td>42</td>\n      <td>36</td>\n      <td>234381</td>\n    </tr>\n    <tr>\n      <th>173</th>\n      <td>2019-08-02</td>\n      <td>B</td>\n      <td>40</td>\n      <td>39</td>\n      <td>221801</td>\n    </tr>\n    <tr>\n      <th>291</th>\n      <td>2019-08-03</td>\n      <td>A</td>\n      <td>66</td>\n      <td>60</td>\n      <td>346854</td>\n    </tr>\n    <tr>\n      <th>...</th>\n      <td>...</td>\n      <td>...</td>\n      <td>...</td>\n      <td>...</td>\n      <td>...</td>\n    </tr>\n    <tr>\n      <th>533</th>\n      <td>2019-08-29</td>\n      <td>B</td>\n      <td>510</td>\n      <td>490</td>\n      <td>4746610</td>\n    </tr>\n    <tr>\n      <th>757</th>\n      <td>2019-08-30</td>\n      <td>A</td>\n      <td>460</td>\n      <td>437</td>\n      <td>3311413</td>\n    </tr>\n    <tr>\n      <th>690</th>\n      <td>2019-08-30</td>\n      <td>B</td>\n      <td>531</td>\n      <td>511</td>\n      <td>4955833</td>\n    </tr>\n    <tr>\n      <th>958</th>\n      <td>2019-08-31</td>\n      <td>A</td>\n      <td>468</td>\n      <td>445</td>\n      <td>3364656</td>\n    </tr>\n    <tr>\n      <th>930</th>\n      <td>2019-08-31</td>\n      <td>B</td>\n      <td>548</td>\n      <td>528</td>\n      <td>5068972</td>\n    </tr>\n  </tbody>\n</table>\n<p>62 rows × 5 columns</p>\n</div>"
     },
     "execution_count": 27,
     "metadata": {},
     "output_type": "execute_result"
    }
   ]
  },
  {
   "cell_type": "markdown",
   "source": [
    "## Получили агрегированные кумулятивные данные о посетителях по дням"
   ],
   "metadata": {
    "id": "gmEtXj3G4225"
   }
  },
  {
   "cell_type": "code",
   "source": [
    "visitorsAggregated = datesGroups.apply(\n",
    "    lambda x: df_visitors[\n",
    "            np.logical_and(df_visitors['date']  <= x['date'],\n",
    "                           df_visitors['group'] == x['group'])\n",
    "        ].agg({'date'     : 'max',\n",
    "               'group'    : 'max',\n",
    "               'visitors' : 'sum'}),\n",
    "    axis=1\n",
    ").sort_values(by=['date', 'group'])\n",
    "\n",
    "# Выводим результат\n",
    "visitorsAggregated"
   ],
   "metadata": {
    "colab": {
     "base_uri": "https://localhost:8080/"
    },
    "id": "cc4m2iav48e_",
    "executionInfo": {
     "status": "ok",
     "timestamp": 1670502860197,
     "user_tz": -180,
     "elapsed": 992,
     "user": {
      "displayName": "Egor Pl",
      "userId": "01211858907248154752"
     }
    },
    "outputId": "f3e00fd8-4b4e-4730-a811-d94a31a0395d"
   },
   "execution_count": 28,
   "outputs": [
    {
     "data": {
      "text/plain": "          date group  visitors\n55  2019-08-01     A       719\n66  2019-08-01     B       713\n175 2019-08-02     A      1338\n173 2019-08-02     B      1294\n291 2019-08-03     A      1845\n..         ...   ...       ...\n757 2019-08-29     A     16219\n533 2019-08-29     B     17098\n690 2019-08-29     B     17098\n930 2019-08-29     B     17098\n958 2019-08-31     A     16918\n\n[62 rows x 3 columns]",
      "text/html": "<div>\n<style scoped>\n    .dataframe tbody tr th:only-of-type {\n        vertical-align: middle;\n    }\n\n    .dataframe tbody tr th {\n        vertical-align: top;\n    }\n\n    .dataframe thead th {\n        text-align: right;\n    }\n</style>\n<table border=\"1\" class=\"dataframe\">\n  <thead>\n    <tr style=\"text-align: right;\">\n      <th></th>\n      <th>date</th>\n      <th>group</th>\n      <th>visitors</th>\n    </tr>\n  </thead>\n  <tbody>\n    <tr>\n      <th>55</th>\n      <td>2019-08-01</td>\n      <td>A</td>\n      <td>719</td>\n    </tr>\n    <tr>\n      <th>66</th>\n      <td>2019-08-01</td>\n      <td>B</td>\n      <td>713</td>\n    </tr>\n    <tr>\n      <th>175</th>\n      <td>2019-08-02</td>\n      <td>A</td>\n      <td>1338</td>\n    </tr>\n    <tr>\n      <th>173</th>\n      <td>2019-08-02</td>\n      <td>B</td>\n      <td>1294</td>\n    </tr>\n    <tr>\n      <th>291</th>\n      <td>2019-08-03</td>\n      <td>A</td>\n      <td>1845</td>\n    </tr>\n    <tr>\n      <th>...</th>\n      <td>...</td>\n      <td>...</td>\n      <td>...</td>\n    </tr>\n    <tr>\n      <th>757</th>\n      <td>2019-08-29</td>\n      <td>A</td>\n      <td>16219</td>\n    </tr>\n    <tr>\n      <th>533</th>\n      <td>2019-08-29</td>\n      <td>B</td>\n      <td>17098</td>\n    </tr>\n    <tr>\n      <th>690</th>\n      <td>2019-08-29</td>\n      <td>B</td>\n      <td>17098</td>\n    </tr>\n    <tr>\n      <th>930</th>\n      <td>2019-08-29</td>\n      <td>B</td>\n      <td>17098</td>\n    </tr>\n    <tr>\n      <th>958</th>\n      <td>2019-08-31</td>\n      <td>A</td>\n      <td>16918</td>\n    </tr>\n  </tbody>\n</table>\n<p>62 rows × 3 columns</p>\n</div>"
     },
     "execution_count": 28,
     "metadata": {},
     "output_type": "execute_result"
    }
   ]
  },
  {
   "cell_type": "markdown",
   "source": [
    "## Объединили данные в одной таблице"
   ],
   "metadata": {
    "id": "kPdQTCg_6mTN"
   }
  },
  {
   "cell_type": "code",
   "source": [
    "cumulativeData = pd.merge(ordersAggregated, visitorsAggregated,\n",
    "        #  how='outer',\n",
    "        #  how='inner',\n",
    "         on=['date', 'group'])\n",
    "\n",
    "# Выводим результат\n",
    "cumulativeData"
   ],
   "metadata": {
    "colab": {
     "base_uri": "https://localhost:8080/"
    },
    "id": "TUg_0n0Y69JS",
    "executionInfo": {
     "status": "ok",
     "timestamp": 1670502860198,
     "user_tz": -180,
     "elapsed": 17,
     "user": {
      "displayName": "Egor Pl",
      "userId": "01211858907248154752"
     }
    },
    "outputId": "f4896acb-bfe6-4da8-9c6f-e69d926208f0"
   },
   "execution_count": 29,
   "outputs": [
    {
     "data": {
      "text/plain": "         date group  transaction_id  visitor_id  revenue  visitors\n0  2019-08-01     A              23          19   142779       719\n1  2019-08-01     B              17          17    59758       713\n2  2019-08-02     A              42          36   234381      1338\n3  2019-08-02     B              40          39   221801      1294\n4  2019-08-03     A              66          60   346854      1845\n..        ...   ...             ...         ...      ...       ...\n57 2019-08-29     A             451         430  3233233     16219\n58 2019-08-29     B             510         490  4746610     17098\n59 2019-08-29     B             510         490  4746610     17098\n60 2019-08-29     B             510         490  4746610     17098\n61 2019-08-31     A             468         445  3364656     16918\n\n[62 rows x 6 columns]",
      "text/html": "<div>\n<style scoped>\n    .dataframe tbody tr th:only-of-type {\n        vertical-align: middle;\n    }\n\n    .dataframe tbody tr th {\n        vertical-align: top;\n    }\n\n    .dataframe thead th {\n        text-align: right;\n    }\n</style>\n<table border=\"1\" class=\"dataframe\">\n  <thead>\n    <tr style=\"text-align: right;\">\n      <th></th>\n      <th>date</th>\n      <th>group</th>\n      <th>transaction_id</th>\n      <th>visitor_id</th>\n      <th>revenue</th>\n      <th>visitors</th>\n    </tr>\n  </thead>\n  <tbody>\n    <tr>\n      <th>0</th>\n      <td>2019-08-01</td>\n      <td>A</td>\n      <td>23</td>\n      <td>19</td>\n      <td>142779</td>\n      <td>719</td>\n    </tr>\n    <tr>\n      <th>1</th>\n      <td>2019-08-01</td>\n      <td>B</td>\n      <td>17</td>\n      <td>17</td>\n      <td>59758</td>\n      <td>713</td>\n    </tr>\n    <tr>\n      <th>2</th>\n      <td>2019-08-02</td>\n      <td>A</td>\n      <td>42</td>\n      <td>36</td>\n      <td>234381</td>\n      <td>1338</td>\n    </tr>\n    <tr>\n      <th>3</th>\n      <td>2019-08-02</td>\n      <td>B</td>\n      <td>40</td>\n      <td>39</td>\n      <td>221801</td>\n      <td>1294</td>\n    </tr>\n    <tr>\n      <th>4</th>\n      <td>2019-08-03</td>\n      <td>A</td>\n      <td>66</td>\n      <td>60</td>\n      <td>346854</td>\n      <td>1845</td>\n    </tr>\n    <tr>\n      <th>...</th>\n      <td>...</td>\n      <td>...</td>\n      <td>...</td>\n      <td>...</td>\n      <td>...</td>\n      <td>...</td>\n    </tr>\n    <tr>\n      <th>57</th>\n      <td>2019-08-29</td>\n      <td>A</td>\n      <td>451</td>\n      <td>430</td>\n      <td>3233233</td>\n      <td>16219</td>\n    </tr>\n    <tr>\n      <th>58</th>\n      <td>2019-08-29</td>\n      <td>B</td>\n      <td>510</td>\n      <td>490</td>\n      <td>4746610</td>\n      <td>17098</td>\n    </tr>\n    <tr>\n      <th>59</th>\n      <td>2019-08-29</td>\n      <td>B</td>\n      <td>510</td>\n      <td>490</td>\n      <td>4746610</td>\n      <td>17098</td>\n    </tr>\n    <tr>\n      <th>60</th>\n      <td>2019-08-29</td>\n      <td>B</td>\n      <td>510</td>\n      <td>490</td>\n      <td>4746610</td>\n      <td>17098</td>\n    </tr>\n    <tr>\n      <th>61</th>\n      <td>2019-08-31</td>\n      <td>A</td>\n      <td>468</td>\n      <td>445</td>\n      <td>3364656</td>\n      <td>16918</td>\n    </tr>\n  </tbody>\n</table>\n<p>62 rows × 6 columns</p>\n</div>"
     },
     "execution_count": 29,
     "metadata": {},
     "output_type": "execute_result"
    }
   ]
  },
  {
   "cell_type": "code",
   "source": [
    "# Изменим названия столбцов\n",
    "cumulativeData.columns = ['date', 'group', 'orders', 'buyers', 'revenue', 'visitors']\n",
    "\n",
    "# Выводим результат\n",
    "cumulativeData"
   ],
   "metadata": {
    "colab": {
     "base_uri": "https://localhost:8080/"
    },
    "id": "xYwt26uKAa9-",
    "executionInfo": {
     "status": "ok",
     "timestamp": 1670502860198,
     "user_tz": -180,
     "elapsed": 16,
     "user": {
      "displayName": "Egor Pl",
      "userId": "01211858907248154752"
     }
    },
    "outputId": "99ca5c99-c669-42a0-b99b-7558e8c3df2c"
   },
   "execution_count": 30,
   "outputs": [
    {
     "data": {
      "text/plain": "         date group  orders  buyers  revenue  visitors\n0  2019-08-01     A      23      19   142779       719\n1  2019-08-01     B      17      17    59758       713\n2  2019-08-02     A      42      36   234381      1338\n3  2019-08-02     B      40      39   221801      1294\n4  2019-08-03     A      66      60   346854      1845\n..        ...   ...     ...     ...      ...       ...\n57 2019-08-29     A     451     430  3233233     16219\n58 2019-08-29     B     510     490  4746610     17098\n59 2019-08-29     B     510     490  4746610     17098\n60 2019-08-29     B     510     490  4746610     17098\n61 2019-08-31     A     468     445  3364656     16918\n\n[62 rows x 6 columns]",
      "text/html": "<div>\n<style scoped>\n    .dataframe tbody tr th:only-of-type {\n        vertical-align: middle;\n    }\n\n    .dataframe tbody tr th {\n        vertical-align: top;\n    }\n\n    .dataframe thead th {\n        text-align: right;\n    }\n</style>\n<table border=\"1\" class=\"dataframe\">\n  <thead>\n    <tr style=\"text-align: right;\">\n      <th></th>\n      <th>date</th>\n      <th>group</th>\n      <th>orders</th>\n      <th>buyers</th>\n      <th>revenue</th>\n      <th>visitors</th>\n    </tr>\n  </thead>\n  <tbody>\n    <tr>\n      <th>0</th>\n      <td>2019-08-01</td>\n      <td>A</td>\n      <td>23</td>\n      <td>19</td>\n      <td>142779</td>\n      <td>719</td>\n    </tr>\n    <tr>\n      <th>1</th>\n      <td>2019-08-01</td>\n      <td>B</td>\n      <td>17</td>\n      <td>17</td>\n      <td>59758</td>\n      <td>713</td>\n    </tr>\n    <tr>\n      <th>2</th>\n      <td>2019-08-02</td>\n      <td>A</td>\n      <td>42</td>\n      <td>36</td>\n      <td>234381</td>\n      <td>1338</td>\n    </tr>\n    <tr>\n      <th>3</th>\n      <td>2019-08-02</td>\n      <td>B</td>\n      <td>40</td>\n      <td>39</td>\n      <td>221801</td>\n      <td>1294</td>\n    </tr>\n    <tr>\n      <th>4</th>\n      <td>2019-08-03</td>\n      <td>A</td>\n      <td>66</td>\n      <td>60</td>\n      <td>346854</td>\n      <td>1845</td>\n    </tr>\n    <tr>\n      <th>...</th>\n      <td>...</td>\n      <td>...</td>\n      <td>...</td>\n      <td>...</td>\n      <td>...</td>\n      <td>...</td>\n    </tr>\n    <tr>\n      <th>57</th>\n      <td>2019-08-29</td>\n      <td>A</td>\n      <td>451</td>\n      <td>430</td>\n      <td>3233233</td>\n      <td>16219</td>\n    </tr>\n    <tr>\n      <th>58</th>\n      <td>2019-08-29</td>\n      <td>B</td>\n      <td>510</td>\n      <td>490</td>\n      <td>4746610</td>\n      <td>17098</td>\n    </tr>\n    <tr>\n      <th>59</th>\n      <td>2019-08-29</td>\n      <td>B</td>\n      <td>510</td>\n      <td>490</td>\n      <td>4746610</td>\n      <td>17098</td>\n    </tr>\n    <tr>\n      <th>60</th>\n      <td>2019-08-29</td>\n      <td>B</td>\n      <td>510</td>\n      <td>490</td>\n      <td>4746610</td>\n      <td>17098</td>\n    </tr>\n    <tr>\n      <th>61</th>\n      <td>2019-08-31</td>\n      <td>A</td>\n      <td>468</td>\n      <td>445</td>\n      <td>3364656</td>\n      <td>16918</td>\n    </tr>\n  </tbody>\n</table>\n<p>62 rows × 6 columns</p>\n</div>"
     },
     "execution_count": 30,
     "metadata": {},
     "output_type": "execute_result"
    }
   ]
  },
  {
   "cell_type": "markdown",
   "source": [
    "Теперь все агрегированные кумулятивные данные по действиям посетителей тестируемого объекта сведены в одной таблице"
   ],
   "metadata": {
    "id": "28hJE57Az4gq"
   }
  },
  {
   "cell_type": "markdown",
   "source": [
    "##  Задание индивидуального варианта для 1 части"
   ],
   "metadata": {
    "id": "KqpAlGVhJ5h-"
   }
  },
  {
   "cell_type": "markdown",
   "source": [
    "### 4 вариант\n",
    "\n",
    "Изобразить точечный график числа заказов по пользователям."
   ],
   "metadata": {
    "id": "hgNTnPNoLDrN"
   }
  },
  {
   "cell_type": "markdown",
   "source": [
    "### Разделим кумулятивные данные на группы А и В"
   ],
   "metadata": {
    "id": "j3v0YiC_IsaQ"
   }
  },
  {
   "cell_type": "markdown",
   "source": [
    "В условии в методичке (текст из методы «Используйте cumulativeData. Разделите cumulativeData на cumulativeRevenueA и cumulativeRevenueB – для группы А и B.») требуется использовать полученную ранее таблицу агрегированных данных для выполнения задания, однако формулировка задания подразумевает создание другой таблицы для построения графика.\n",
    "\n",
    "Использовать агрегированные в прошлых пунктах данные для выполнения построения графика числа заказов по пользователям не получится, потому что в них нет разделения на отдельных пользователей, и мы не сможем узнать сколько заказов сделал каждый из них.\n"
   ],
   "metadata": {
    "id": "G0Pao9Uy6LPp"
   }
  },
  {
   "cell_type": "code",
   "source": [
    "# Комулятивные данные о группе А\n",
    "cumulativeRevenueA = cumulativeData.loc[cumulativeData['group'] == 'A']\n",
    "# Комулятивные данные о группе В\n",
    "cumulativeRevenueB = cumulativeData.loc[cumulativeData['group'] == 'B']"
   ],
   "metadata": {
    "id": "YbGTrLhm6saM"
   },
   "execution_count": 31,
   "outputs": []
  },
  {
   "cell_type": "code",
   "source": [
    "cumulativeRevenueA.head()"
   ],
   "metadata": {
    "colab": {
     "base_uri": "https://localhost:8080/"
    },
    "id": "z7YBK8nYVHde",
    "executionInfo": {
     "status": "ok",
     "timestamp": 1670502860199,
     "user_tz": -180,
     "elapsed": 16,
     "user": {
      "displayName": "Egor Pl",
      "userId": "01211858907248154752"
     }
    },
    "outputId": "a59bf33f-8ac4-4ce7-89d5-c59b2d6a3e30"
   },
   "execution_count": 32,
   "outputs": [
    {
     "data": {
      "text/plain": "        date group  orders  buyers  revenue  visitors\n0 2019-08-01     A      23      19   142779       719\n2 2019-08-02     A      42      36   234381      1338\n4 2019-08-03     A      66      60   346854      1845\n6 2019-08-04     A      77      71   388030      2562\n8 2019-08-05     A      99      92   474413      3318",
      "text/html": "<div>\n<style scoped>\n    .dataframe tbody tr th:only-of-type {\n        vertical-align: middle;\n    }\n\n    .dataframe tbody tr th {\n        vertical-align: top;\n    }\n\n    .dataframe thead th {\n        text-align: right;\n    }\n</style>\n<table border=\"1\" class=\"dataframe\">\n  <thead>\n    <tr style=\"text-align: right;\">\n      <th></th>\n      <th>date</th>\n      <th>group</th>\n      <th>orders</th>\n      <th>buyers</th>\n      <th>revenue</th>\n      <th>visitors</th>\n    </tr>\n  </thead>\n  <tbody>\n    <tr>\n      <th>0</th>\n      <td>2019-08-01</td>\n      <td>A</td>\n      <td>23</td>\n      <td>19</td>\n      <td>142779</td>\n      <td>719</td>\n    </tr>\n    <tr>\n      <th>2</th>\n      <td>2019-08-02</td>\n      <td>A</td>\n      <td>42</td>\n      <td>36</td>\n      <td>234381</td>\n      <td>1338</td>\n    </tr>\n    <tr>\n      <th>4</th>\n      <td>2019-08-03</td>\n      <td>A</td>\n      <td>66</td>\n      <td>60</td>\n      <td>346854</td>\n      <td>1845</td>\n    </tr>\n    <tr>\n      <th>6</th>\n      <td>2019-08-04</td>\n      <td>A</td>\n      <td>77</td>\n      <td>71</td>\n      <td>388030</td>\n      <td>2562</td>\n    </tr>\n    <tr>\n      <th>8</th>\n      <td>2019-08-05</td>\n      <td>A</td>\n      <td>99</td>\n      <td>92</td>\n      <td>474413</td>\n      <td>3318</td>\n    </tr>\n  </tbody>\n</table>\n</div>"
     },
     "execution_count": 32,
     "metadata": {},
     "output_type": "execute_result"
    }
   ]
  },
  {
   "cell_type": "code",
   "source": [
    "cumulativeRevenueB.head()"
   ],
   "metadata": {
    "colab": {
     "base_uri": "https://localhost:8080/"
    },
    "id": "hWXhwfIwVIvV",
    "executionInfo": {
     "status": "ok",
     "timestamp": 1670502860199,
     "user_tz": -180,
     "elapsed": 15,
     "user": {
      "displayName": "Egor Pl",
      "userId": "01211858907248154752"
     }
    },
    "outputId": "7de03ad7-d0b9-45aa-aed5-1c3da103db24"
   },
   "execution_count": 33,
   "outputs": [
    {
     "data": {
      "text/plain": "        date group  orders  buyers  revenue  visitors\n1 2019-08-01     B      17      17    59758       713\n3 2019-08-02     B      40      39   221801      1294\n5 2019-08-03     B      54      53   288850      1803\n7 2019-08-04     B      68      66   385740      2573\n9 2019-08-05     B      89      87   475648      3280",
      "text/html": "<div>\n<style scoped>\n    .dataframe tbody tr th:only-of-type {\n        vertical-align: middle;\n    }\n\n    .dataframe tbody tr th {\n        vertical-align: top;\n    }\n\n    .dataframe thead th {\n        text-align: right;\n    }\n</style>\n<table border=\"1\" class=\"dataframe\">\n  <thead>\n    <tr style=\"text-align: right;\">\n      <th></th>\n      <th>date</th>\n      <th>group</th>\n      <th>orders</th>\n      <th>buyers</th>\n      <th>revenue</th>\n      <th>visitors</th>\n    </tr>\n  </thead>\n  <tbody>\n    <tr>\n      <th>1</th>\n      <td>2019-08-01</td>\n      <td>B</td>\n      <td>17</td>\n      <td>17</td>\n      <td>59758</td>\n      <td>713</td>\n    </tr>\n    <tr>\n      <th>3</th>\n      <td>2019-08-02</td>\n      <td>B</td>\n      <td>40</td>\n      <td>39</td>\n      <td>221801</td>\n      <td>1294</td>\n    </tr>\n    <tr>\n      <th>5</th>\n      <td>2019-08-03</td>\n      <td>B</td>\n      <td>54</td>\n      <td>53</td>\n      <td>288850</td>\n      <td>1803</td>\n    </tr>\n    <tr>\n      <th>7</th>\n      <td>2019-08-04</td>\n      <td>B</td>\n      <td>68</td>\n      <td>66</td>\n      <td>385740</td>\n      <td>2573</td>\n    </tr>\n    <tr>\n      <th>9</th>\n      <td>2019-08-05</td>\n      <td>B</td>\n      <td>89</td>\n      <td>87</td>\n      <td>475648</td>\n      <td>3280</td>\n    </tr>\n  </tbody>\n</table>\n</div>"
     },
     "execution_count": 33,
     "metadata": {},
     "output_type": "execute_result"
    }
   ]
  },
  {
   "cell_type": "markdown",
   "source": [
    "### Построение точечного графика числа заказов по пользователям"
   ],
   "metadata": {
    "id": "cf-viWXF6bgZ"
   }
  },
  {
   "cell_type": "code",
   "source": [
    "# Создаем датафрейм для построения графика\n",
    "\n",
    "# С разбиением на группы (А или В)\n",
    "ordersByUsers = df_orders.loc[:,['visitor_id','transaction_id','group']].groupby(by=['visitor_id','group'])[\"transaction_id\"].nunique().to_frame().reset_index().sort_values(by=['transaction_id'], ascending = False)\n",
    "ordersByUsers.columns = ['visitor_id', 'group', 'orders']\n",
    "\n",
    "ordersByUsers"
   ],
   "metadata": {
    "colab": {
     "base_uri": "https://localhost:8080/",
     "height": 423
    },
    "id": "FFLvL-u8FE45",
    "executionInfo": {
     "status": "ok",
     "timestamp": 1670502860199,
     "user_tz": -180,
     "elapsed": 14,
     "user": {
      "displayName": "Egor Pl",
      "userId": "01211858907248154752"
     }
    },
    "outputId": "8d14a334-618d-457c-c2e8-cf22c47aa15b"
   },
   "execution_count": 34,
   "outputs": [
    {
     "data": {
      "text/plain": "     visitor_id group  orders\n908  3967698036     A       3\n55    249864742     B       3\n478  2108163459     A       3\n687  2988190573     A       3\n890  3908431265     A       3\n..          ...   ...     ...\n331  1438226485     B       1\n332  1452540367     A       1\n333  1455323168     B       1\n334  1455861274     B       1\n972  4283872382     B       1\n\n[973 rows x 3 columns]",
      "text/html": "<div>\n<style scoped>\n    .dataframe tbody tr th:only-of-type {\n        vertical-align: middle;\n    }\n\n    .dataframe tbody tr th {\n        vertical-align: top;\n    }\n\n    .dataframe thead th {\n        text-align: right;\n    }\n</style>\n<table border=\"1\" class=\"dataframe\">\n  <thead>\n    <tr style=\"text-align: right;\">\n      <th></th>\n      <th>visitor_id</th>\n      <th>group</th>\n      <th>orders</th>\n    </tr>\n  </thead>\n  <tbody>\n    <tr>\n      <th>908</th>\n      <td>3967698036</td>\n      <td>A</td>\n      <td>3</td>\n    </tr>\n    <tr>\n      <th>55</th>\n      <td>249864742</td>\n      <td>B</td>\n      <td>3</td>\n    </tr>\n    <tr>\n      <th>478</th>\n      <td>2108163459</td>\n      <td>A</td>\n      <td>3</td>\n    </tr>\n    <tr>\n      <th>687</th>\n      <td>2988190573</td>\n      <td>A</td>\n      <td>3</td>\n    </tr>\n    <tr>\n      <th>890</th>\n      <td>3908431265</td>\n      <td>A</td>\n      <td>3</td>\n    </tr>\n    <tr>\n      <th>...</th>\n      <td>...</td>\n      <td>...</td>\n      <td>...</td>\n    </tr>\n    <tr>\n      <th>331</th>\n      <td>1438226485</td>\n      <td>B</td>\n      <td>1</td>\n    </tr>\n    <tr>\n      <th>332</th>\n      <td>1452540367</td>\n      <td>A</td>\n      <td>1</td>\n    </tr>\n    <tr>\n      <th>333</th>\n      <td>1455323168</td>\n      <td>B</td>\n      <td>1</td>\n    </tr>\n    <tr>\n      <th>334</th>\n      <td>1455861274</td>\n      <td>B</td>\n      <td>1</td>\n    </tr>\n    <tr>\n      <th>972</th>\n      <td>4283872382</td>\n      <td>B</td>\n      <td>1</td>\n    </tr>\n  </tbody>\n</table>\n<p>973 rows × 3 columns</p>\n</div>"
     },
     "execution_count": 34,
     "metadata": {},
     "output_type": "execute_result"
    }
   ]
  },
  {
   "cell_type": "code",
   "source": [
    "from matplotlib import pyplot as plt\n",
    "\n",
    "\n",
    "# Построениие графика\n",
    "plt.figure(figsize=(15, 10))\n",
    "plt.scatter(x = pd.Series(range(0,len(ordersByUsers)))\n",
    "           ,y = ordersByUsers[['orders']]\n",
    "           ,c = ordersByUsers.group.map({'A':'tab:red', 'B':'tab:green'}) # Добавляет цвет группы\n",
    "            )\n",
    "plt.show()"
   ],
   "metadata": {
    "colab": {
     "base_uri": "https://localhost:8080/",
     "height": 592
    },
    "id": "gNXe3CAyFKyA",
    "executionInfo": {
     "status": "ok",
     "timestamp": 1670502861226,
     "user_tz": -180,
     "elapsed": 1040,
     "user": {
      "displayName": "Egor Pl",
      "userId": "01211858907248154752"
     }
    },
    "outputId": "2ae245bc-113e-4f17-f194-716378dc4109"
   },
   "execution_count": 35,
   "outputs": [
    {
     "data": {
      "text/plain": "<Figure size 1500x1000 with 1 Axes>",
      "image/png": "[encoded data removed]"
     },
     "metadata": {},
     "output_type": "display_data"
    }
   ]
  },
  {
   "cell_type": "markdown",
   "source": [
    "Максимальное количество, сделанных одним посетителем ровно 3, однако в большинстве случаев оно не превышает 1."
   ],
   "metadata": {
    "id": "3ja3DnlBAThg"
   }
  },
  {
   "cell_type": "markdown",
   "source": [
    "## Вывод по первой части\n",
    "\n",
    "Выполнив первую часть работы мы научились определять пересечения групп пользователя для А/А и А/В теста. Так же мы разобрались с тем что из себя представляют агрегированные кумулятивные данные полученные из сырых дынных логов системы, научились их создавать и строить по ним графики."
   ],
   "metadata": {
    "id": "7NZHUZ54ME9_"
   }
  },
  {
   "cell_type": "markdown",
   "source": [
    "# Вторая часть"
   ],
   "metadata": {
    "id": "zjb59lekL34V"
   }
  },
  {
   "cell_type": "code",
   "source": [
    "# Посмотрели данные\n",
    "df_logs_exp"
   ],
   "metadata": {
    "colab": {
     "base_uri": "https://localhost:8080/",
     "height": 423
    },
    "id": "lnI2w1LCPJ5L",
    "executionInfo": {
     "status": "ok",
     "timestamp": 1670502861227,
     "user_tz": -180,
     "elapsed": 6,
     "user": {
      "displayName": "Egor Pl",
      "userId": "01211858907248154752"
     }
    },
    "outputId": "1199960b-5b91-4a51-a159-11264215b2ca"
   },
   "execution_count": 36,
   "outputs": [
    {
     "data": {
      "text/plain": "                     event_name       device_id_hash     event_timestamp  \\\n0              MainScreenAppear  4575588528974610257 2019-07-25 04:43:36   \n1              MainScreenAppear  7416695313311560658 2019-07-25 11:11:42   \n2       PaymentScreenSuccessful  3518123091307005509 2019-07-25 11:28:47   \n3              CartScreenAppear  3518123091307005509 2019-07-25 11:28:47   \n4       PaymentScreenSuccessful  6217807653094995999 2019-07-25 11:48:42   \n...                         ...                  ...                 ...   \n244121         MainScreenAppear  4599628364049201812 2019-08-07 21:12:25   \n244122         MainScreenAppear  5849806612437486590 2019-08-07 21:13:59   \n244123         MainScreenAppear  5746969938801999050 2019-08-07 21:14:43   \n244124         MainScreenAppear  5746969938801999050 2019-08-07 21:14:58   \n244125       OffersScreenAppear  5746969938801999050 2019-08-07 21:15:17   \n\n        exp_id  \n0          246  \n1          246  \n2          248  \n3          248  \n4          248  \n...        ...  \n244121     247  \n244122     246  \n244123     246  \n244124     246  \n244125     246  \n\n[243713 rows x 4 columns]",
      "text/html": "<div>\n<style scoped>\n    .dataframe tbody tr th:only-of-type {\n        vertical-align: middle;\n    }\n\n    .dataframe tbody tr th {\n        vertical-align: top;\n    }\n\n    .dataframe thead th {\n        text-align: right;\n    }\n</style>\n<table border=\"1\" class=\"dataframe\">\n  <thead>\n    <tr style=\"text-align: right;\">\n      <th></th>\n      <th>event_name</th>\n      <th>device_id_hash</th>\n      <th>event_timestamp</th>\n      <th>exp_id</th>\n    </tr>\n  </thead>\n  <tbody>\n    <tr>\n      <th>0</th>\n      <td>MainScreenAppear</td>\n      <td>4575588528974610257</td>\n      <td>2019-07-25 04:43:36</td>\n      <td>246</td>\n    </tr>\n    <tr>\n      <th>1</th>\n      <td>MainScreenAppear</td>\n      <td>7416695313311560658</td>\n      <td>2019-07-25 11:11:42</td>\n      <td>246</td>\n    </tr>\n    <tr>\n      <th>2</th>\n      <td>PaymentScreenSuccessful</td>\n      <td>3518123091307005509</td>\n      <td>2019-07-25 11:28:47</td>\n      <td>248</td>\n    </tr>\n    <tr>\n      <th>3</th>\n      <td>CartScreenAppear</td>\n      <td>3518123091307005509</td>\n      <td>2019-07-25 11:28:47</td>\n      <td>248</td>\n    </tr>\n    <tr>\n      <th>4</th>\n      <td>PaymentScreenSuccessful</td>\n      <td>6217807653094995999</td>\n      <td>2019-07-25 11:48:42</td>\n      <td>248</td>\n    </tr>\n    <tr>\n      <th>...</th>\n      <td>...</td>\n      <td>...</td>\n      <td>...</td>\n      <td>...</td>\n    </tr>\n    <tr>\n      <th>244121</th>\n      <td>MainScreenAppear</td>\n      <td>4599628364049201812</td>\n      <td>2019-08-07 21:12:25</td>\n      <td>247</td>\n    </tr>\n    <tr>\n      <th>244122</th>\n      <td>MainScreenAppear</td>\n      <td>5849806612437486590</td>\n      <td>2019-08-07 21:13:59</td>\n      <td>246</td>\n    </tr>\n    <tr>\n      <th>244123</th>\n      <td>MainScreenAppear</td>\n      <td>5746969938801999050</td>\n      <td>2019-08-07 21:14:43</td>\n      <td>246</td>\n    </tr>\n    <tr>\n      <th>244124</th>\n      <td>MainScreenAppear</td>\n      <td>5746969938801999050</td>\n      <td>2019-08-07 21:14:58</td>\n      <td>246</td>\n    </tr>\n    <tr>\n      <th>244125</th>\n      <td>OffersScreenAppear</td>\n      <td>5746969938801999050</td>\n      <td>2019-08-07 21:15:17</td>\n      <td>246</td>\n    </tr>\n  </tbody>\n</table>\n<p>243713 rows × 4 columns</p>\n</div>"
     },
     "execution_count": 36,
     "metadata": {},
     "output_type": "execute_result"
    }
   ]
  },
  {
   "cell_type": "markdown",
   "source": [
    "## Вывели на экран количество каждого события в порядке убывания частоты"
   ],
   "metadata": {
    "id": "OZSZZN_vPr-_"
   }
  },
  {
   "cell_type": "code",
   "source": [
    "# Нашли кол-во записей о каждом фиксируемом собитии\n",
    "df_logs_exp.groupby(by=['event_name'])['event_name'].count().sort_values(ascending = False)"
   ],
   "metadata": {
    "colab": {
     "base_uri": "https://localhost:8080/"
    },
    "id": "eqVtHvTnMAoS",
    "executionInfo": {
     "status": "ok",
     "timestamp": 1670502861763,
     "user_tz": -180,
     "elapsed": 541,
     "user": {
      "displayName": "Egor Pl",
      "userId": "01211858907248154752"
     }
    },
    "outputId": "e1fdf1ab-8cba-4190-bb71-10f0ef164c3a"
   },
   "execution_count": 37,
   "outputs": [
    {
     "data": {
      "text/plain": "event_name\nMainScreenAppear           119101\nOffersScreenAppear          46808\nCartScreenAppear            42668\nPaymentScreenSuccessful     34118\nTutorial                     1018\nName: event_name, dtype: int64"
     },
     "execution_count": 37,
     "metadata": {},
     "output_type": "execute_result"
    }
   ]
  },
  {
   "cell_type": "markdown",
   "source": [
    "Чаще всего встречается событие \"MainScreenAppear\", количество записей о нем равно 119 101."
   ],
   "metadata": {
    "id": "uUuiwZMlPy7M"
   }
  },
  {
   "cell_type": "markdown",
   "source": [
    "## Подсчитали сколько пользователей совершали каждое из этих событий"
   ],
   "metadata": {
    "id": "TkQCv8JZQP5r"
   }
  },
  {
   "cell_type": "code",
   "source": [
    "# Определили кол-во уникальных пользователей, совершавших каждое из событий\n",
    "df_logs_exp.groupby(by=['event_name']).agg({'device_id_hash':'nunique'}).sort_values(by=['device_id_hash'], ascending = False)"
   ],
   "metadata": {
    "colab": {
     "base_uri": "https://localhost:8080/",
     "height": 237
    },
    "id": "tGS56YhhQcuB",
    "executionInfo": {
     "status": "ok",
     "timestamp": 1670502861764,
     "user_tz": -180,
     "elapsed": 8,
     "user": {
      "displayName": "Egor Pl",
      "userId": "01211858907248154752"
     }
    },
    "outputId": "e4b7c2c5-813e-4b3f-cdf5-e1f88b1b673f"
   },
   "execution_count": 38,
   "outputs": [
    {
     "data": {
      "text/plain": "                         device_id_hash\nevent_name                             \nMainScreenAppear                   7439\nOffersScreenAppear                 4613\nCartScreenAppear                   3749\nPaymentScreenSuccessful            3547\nTutorial                            847",
      "text/html": "<div>\n<style scoped>\n    .dataframe tbody tr th:only-of-type {\n        vertical-align: middle;\n    }\n\n    .dataframe tbody tr th {\n        vertical-align: top;\n    }\n\n    .dataframe thead th {\n        text-align: right;\n    }\n</style>\n<table border=\"1\" class=\"dataframe\">\n  <thead>\n    <tr style=\"text-align: right;\">\n      <th></th>\n      <th>device_id_hash</th>\n    </tr>\n    <tr>\n      <th>event_name</th>\n      <th></th>\n    </tr>\n  </thead>\n  <tbody>\n    <tr>\n      <th>MainScreenAppear</th>\n      <td>7439</td>\n    </tr>\n    <tr>\n      <th>OffersScreenAppear</th>\n      <td>4613</td>\n    </tr>\n    <tr>\n      <th>CartScreenAppear</th>\n      <td>3749</td>\n    </tr>\n    <tr>\n      <th>PaymentScreenSuccessful</th>\n      <td>3547</td>\n    </tr>\n    <tr>\n      <th>Tutorial</th>\n      <td>847</td>\n    </tr>\n  </tbody>\n</table>\n</div>"
     },
     "execution_count": 38,
     "metadata": {},
     "output_type": "execute_result"
    }
   ]
  },
  {
   "cell_type": "markdown",
   "source": [
    "Распределение количества пользователей согласуется с количеством  совершений каждого действия"
   ],
   "metadata": {
    "id": "MYscRefaAp_Z"
   }
  },
  {
   "cell_type": "markdown",
   "source": [
    "## Определили количество пользователей в каждой группе"
   ],
   "metadata": {
    "id": "BUajnbT7SaLo"
   }
  },
  {
   "cell_type": "code",
   "source": [
    "# Посчитали пользователей в группах\n",
    "df_logs_exp.groupby(by=['exp_id']).agg({'device_id_hash':'nunique'})"
   ],
   "metadata": {
    "colab": {
     "base_uri": "https://localhost:8080/",
     "height": 175
    },
    "id": "aUWQA9DBSZdX",
    "executionInfo": {
     "status": "ok",
     "timestamp": 1670502862340,
     "user_tz": -180,
     "elapsed": 583,
     "user": {
      "displayName": "Egor Pl",
      "userId": "01211858907248154752"
     }
    },
    "outputId": "353f2984-416b-4d31-844f-d2f6ed5cbc2a"
   },
   "execution_count": 39,
   "outputs": [
    {
     "data": {
      "text/plain": "        device_id_hash\nexp_id                \n246               2489\n247               2520\n248               2542",
      "text/html": "<div>\n<style scoped>\n    .dataframe tbody tr th:only-of-type {\n        vertical-align: middle;\n    }\n\n    .dataframe tbody tr th {\n        vertical-align: top;\n    }\n\n    .dataframe thead th {\n        text-align: right;\n    }\n</style>\n<table border=\"1\" class=\"dataframe\">\n  <thead>\n    <tr style=\"text-align: right;\">\n      <th></th>\n      <th>device_id_hash</th>\n    </tr>\n    <tr>\n      <th>exp_id</th>\n      <th></th>\n    </tr>\n  </thead>\n  <tbody>\n    <tr>\n      <th>246</th>\n      <td>2489</td>\n    </tr>\n    <tr>\n      <th>247</th>\n      <td>2520</td>\n    </tr>\n    <tr>\n      <th>248</th>\n      <td>2542</td>\n    </tr>\n  </tbody>\n</table>\n</div>"
     },
     "execution_count": 39,
     "metadata": {},
     "output_type": "execute_result"
    }
   ]
  },
  {
   "cell_type": "markdown",
   "source": [
    "Распределение пользователей по группам равномерное"
   ],
   "metadata": {
    "id": "rD_MrCr6Bci2"
   }
  },
  {
   "cell_type": "markdown",
   "source": [
    "## Нашли пользователей, которые пересекаются в группах"
   ],
   "metadata": {
    "id": "xbEPuH60n2Xy"
   }
  },
  {
   "cell_type": "code",
   "source": [
    "# Модуль для получения итератора по сочетиниям без повторений\n",
    "from itertools import combinations\n",
    "\n",
    "group = {}                                    # Словарь групп\n",
    "group_names = df_logs_exp['exp_id'].unique()  # Список названий групп\n",
    "inner_user_gr = []                            # Список кортежей с пересекающимися пользователями\n",
    "\n",
    "# Выбеляем данные о группах ('exp_id') пользователей \n",
    "for gr_name in group_names:\n",
    "  group[gr_name] = df_logs_exp.loc[df_logs_exp['exp_id'] == gr_name]\n",
    "\n",
    "# Попарно проверяем пересечение пользователей\n",
    "for first_gr_name, second_gr_name in combinations(group_names, 2):\n",
    "  first_group = group[first_gr_name]\n",
    "  second_group = group[second_gr_name]\n",
    "\n",
    "  # Находим пересекающихся пользователей и сохранием их идентификаторы ('device_id_hash') в списке\n",
    "  inner_user = pd.merge(first_group, second_group, how ='inner', on =['device_id_hash'])['device_id_hash'].unique()\n",
    "  # print(first_gr_name, second_gr_name, inner_user)  # Тестовый вывод\n",
    "\n",
    "  if len(inner_user) != 0: inner_user_gr.append((first_gr_name, second_gr_name, inner_user))\n",
    "\n",
    "if inner_user_gr: print('Список пересечений пользователей:', *inner_user_gr, sep='\\n')\n",
    "else:             print('Пересечений пользователей по группам нет')"
   ],
   "metadata": {
    "colab": {
     "base_uri": "https://localhost:8080/"
    },
    "id": "I9ZeCkjIoul5",
    "executionInfo": {
     "status": "ok",
     "timestamp": 1670502862341,
     "user_tz": -180,
     "elapsed": 10,
     "user": {
      "displayName": "Egor Pl",
      "userId": "01211858907248154752"
     }
    },
    "outputId": "18674893-397c-4368-ee1a-3414976906fe"
   },
   "execution_count": 40,
   "outputs": [
    {
     "name": "stdout",
     "output_type": "stream",
     "text": [
      "Пересечений пользователей по группам нет\n"
     ]
    }
   ]
  },
  {
   "cell_type": "markdown",
   "source": [
    "Так как пересечения пользователей нет нам не нужно удалять записи, которые могли бы повлиять на проверку гипотез."
   ],
   "metadata": {
    "id": "E4Au1xgOChRS"
   }
  },
  {
   "cell_type": "markdown",
   "source": [
    "## А/А тест"
   ],
   "metadata": {
    "id": "vJCnBzLhAYfP"
   }
  },
  {
   "cell_type": "markdown",
   "source": [
    "**Проверка гипотезы о равенстве долей**\n",
    "\n",
    "*   Нулевая гипотеза: Группа 246 и 247 не имеет различий\n",
    "*   Альтернативная гипотеза: Группа 246 и 247 отличаются."
   ],
   "metadata": {
    "id": "C00_cqT1ETok"
   }
  },
  {
   "cell_type": "markdown",
   "source": [
    "Функция получает на вход датасет (DATA), названия 2 групп которые необходимо проверить (group_a, group_b), название события для которого проводиться проверка (event) и уровень статистической значимости (alpha)."
   ],
   "metadata": {
    "id": "4UKGaaWqTo3Q"
   }
  },
  {
   "cell_type": "code",
   "source": [
    "from scipy import stats as st\n",
    "import numpy as np\n",
    "import math as mth\n",
    "\n",
    "def test_groups(DATA, group_a, group_b, event, alpha):\n",
    "  # получим количество успехов\n",
    "  group_users = np.array([DATA.query('event_name == @event and group == @group_a').user_id.nunique(),\n",
    "                          DATA.query('event_name == @event and group == @group_b').user_id.nunique()])\n",
    "  \n",
    "  # получим количество пользователей в группах\n",
    "  total_users = np.array([DATA.query('group == @group_a').user_id.nunique(),\n",
    "                          DATA.query('group == @group_b').user_id.nunique()])\n",
    "  # пропорция успехов в первой группе:\n",
    "  p1 = group_users[0]/total_users[0]\n",
    "\n",
    "  # пропорция успехов во второй группе:\n",
    "  p2 = group_users[1]/total_users[1]\n",
    "  \n",
    "  # пропорция успехов в комбинированном датасете:\n",
    "  p_combined = (group_users[0] + group_users[1]) / (total_users[0] + total_users[1])\n",
    "  \n",
    "  # разница пропорций в датасетах\n",
    "  difference = p1 - p2\n",
    "\n",
    "  # считаем статистику в ст.отклонениях стандартного нормального распределения\n",
    "  z_value = difference / mth.sqrt(\n",
    "      p_combined * (1 - p_combined) * (1 / total_users[0] + 1 / total_users[1])\n",
    "  )\n",
    "\n",
    "  # задаем стандартное нормальное распределение (среднее 0, ст.отклонение 1)\n",
    "  distr = st.norm(0, 1)\n",
    "\n",
    "  p_value = (1 - distr.cdf(abs(z_value))) * 2\n",
    "  print('Группы', group_a,'и', group_b, 'cобытие', event,'\\np-значение: ', p_value)\n",
    "\n",
    "  if p_value < alpha: print('Отвергаем нулевую гипотезу: есть значимая разница между долями')\n",
    "  else:               print('Не получилось отвергнуть нулевую гипотезу, нет оснований считать доли разными')"
   ],
   "metadata": {
    "id": "RDQFnupoAX2q"
   },
   "execution_count": 41,
   "outputs": []
  },
  {
   "cell_type": "code",
   "source": [
    "# Переименовываем столбцы для соответствия логике функции\n",
    "df_logs_exp.columns = ['event_name', 'user_id', 'event_timestamp', 'group']"
   ],
   "metadata": {
    "id": "bc6Dsjn1J-Uy"
   },
   "execution_count": 42,
   "outputs": []
  },
  {
   "cell_type": "code",
   "source": [
    "# Проводим А/А тест для проверки гипотизы\n",
    "for event in df_logs_exp.event_name.unique():\n",
    "  test_groups(df_logs_exp, 246, 247, event, 0.05)\n",
    "  print()"
   ],
   "metadata": {
    "colab": {
     "base_uri": "https://localhost:8080/"
    },
    "id": "o-7RgA7WEzNQ",
    "executionInfo": {
     "status": "ok",
     "timestamp": 1670502863296,
     "user_tz": -180,
     "elapsed": 411,
     "user": {
      "displayName": "Egor Pl",
      "userId": "01211858907248154752"
     }
    },
    "outputId": "43dc27cd-056c-4517-d231-dca5b96390ee"
   },
   "execution_count": 43,
   "outputs": [
    {
     "name": "stdout",
     "output_type": "stream",
     "text": [
      "Группы 246 и 247 cобытие MainScreenAppear \n",
      "p-значение:  0.5856639791209877\n",
      "Не получилось отвергнуть нулевую гипотезу, нет оснований считать доли разными\n",
      "\n",
      "Группы 246 и 247 cобытие PaymentScreenSuccessful \n",
      "p-значение:  0.10902546202332886\n",
      "Не получилось отвергнуть нулевую гипотезу, нет оснований считать доли разными\n",
      "\n",
      "Группы 246 и 247 cобытие CartScreenAppear \n",
      "p-значение:  0.19817540651836918\n",
      "Не получилось отвергнуть нулевую гипотезу, нет оснований считать доли разными\n",
      "\n",
      "Группы 246 и 247 cобытие OffersScreenAppear \n",
      "p-значение:  0.3233225048227193\n",
      "Не получилось отвергнуть нулевую гипотезу, нет оснований считать доли разными\n",
      "\n",
      "Группы 246 и 247 cобытие Tutorial \n",
      "p-значение:  0.8756574258016974\n",
      "Не получилось отвергнуть нулевую гипотезу, нет оснований считать доли разными\n",
      "\n"
     ]
    }
   ]
  },
  {
   "cell_type": "markdown",
   "source": [
    "Так как не удалось отвергнуть нулевую гипотезу значит доли равны.\n",
    "\n",
    "Такой результат говорит нам о том, что мы можем доверять результатам нашего теста при проведении А/В тестирования."
   ],
   "metadata": {
    "id": "AXTL9kdlR3Yy"
   }
  },
  {
   "cell_type": "markdown",
   "source": [
    "## А/B тест"
   ],
   "metadata": {
    "id": "NRvLR_pwJOaI"
   }
  },
  {
   "cell_type": "markdown",
   "source": [
    "* Нулевая гипотеза: Нет различиий между группой А (246) и группой B (248).\n",
    "* Альтернативная: Есть различия между контрольной и экспериментальной группами."
   ],
   "metadata": {
    "id": "FzspL9_UJbXU"
   }
  },
  {
   "cell_type": "code",
   "source": [
    "# Проводим А/В тест для проверки гипотизы\n",
    "for event in df_logs_exp.event_name.unique():\n",
    "  test_groups(df_logs_exp, 246, 248, event, 0.05)\n",
    "  print()"
   ],
   "metadata": {
    "colab": {
     "base_uri": "https://localhost:8080/"
    },
    "id": "8o3StplCN-ky",
    "executionInfo": {
     "status": "ok",
     "timestamp": 1670502863968,
     "user_tz": -180,
     "elapsed": 674,
     "user": {
      "displayName": "Egor Pl",
      "userId": "01211858907248154752"
     }
    },
    "outputId": "5fa9a208-3025-4cf6-af8b-37d9fa9548fe"
   },
   "execution_count": 44,
   "outputs": [
    {
     "name": "stdout",
     "output_type": "stream",
     "text": [
      "Группы 246 и 248 cобытие MainScreenAppear \n",
      "p-значение:  0.39774960182882513\n",
      "Не получилось отвергнуть нулевую гипотезу, нет оснований считать доли разными\n",
      "\n",
      "Группы 246 и 248 cобытие PaymentScreenSuccessful \n",
      "p-значение:  0.23403912852637143\n",
      "Не получилось отвергнуть нулевую гипотезу, нет оснований считать доли разными\n",
      "\n",
      "Группы 246 и 248 cобытие CartScreenAppear \n",
      "p-значение:  0.10534150642722295\n",
      "Не получилось отвергнуть нулевую гипотезу, нет оснований считать доли разными\n",
      "\n",
      "Группы 246 и 248 cобытие OffersScreenAppear \n",
      "p-значение:  0.2531656758489338\n",
      "Не получилось отвергнуть нулевую гипотезу, нет оснований считать доли разными\n",
      "\n",
      "Группы 246 и 248 cобытие Tutorial \n",
      "p-значение:  0.8962914725257976\n",
      "Не получилось отвергнуть нулевую гипотезу, нет оснований считать доли разными\n",
      "\n"
     ]
    }
   ]
  },
  {
   "cell_type": "markdown",
   "source": [
    "Так как нулевая гипотеза не была отвергнута, то тест показал, что значимых отличий между долями нет.\n",
    "\n",
    "Из этого можно сделать вывод о том, что внесенные изменения не повлияли на конверсию заказов и их можно не вводить для всех пользователей.\n",
    "\n",
    "Результатам этого теста мы можем доверять так как А/А тест был пройден успешно."
   ],
   "metadata": {
    "id": "0V08AQLYTtJh"
   }
  },
  {
   "cell_type": "markdown",
   "source": [
    "## Вывод по второй части\n",
    "\n",
    "Определили частоту событий и нашли количество пользователей совершивших каждое из тестиремых событий в результате чего определили что больше всего записей о событии \"MainScreenAppear\" и соответственно его совершило больше всего уникальных пользователей.\n",
    "\n",
    "Произвели поиск пересекающихся пользователей, который не выдал не одного пользователя, это говорит о корректном разделении пользователей на группы.\n",
    "\n",
    "Произвели А/А тестирование результаты которого показали, что выборка достаточна и можно доверять результатам последующего А/В теста.\n",
    "\n",
    "Проведя А/В тест получили результат, говорящий о том, что тестируемые изменения не несут статистической значимости в изменение конверсии посетителей в заказы значит их можно не вносить для всех пользователей."
   ],
   "metadata": {
    "id": "0RLhE9lXLAgl"
   }
  },
  {
   "cell_type": "markdown",
   "source": [
    "# ОБЩИЙ ВЫВОД\n",
    "\n",
    "В ходе данной лабораторной работы мы подготовили собранные данные для анализа, избавились от пропусков и дубликатов, исправили типы данных и названия столбцов, а также проверили чтобы в данных не осталось информации о пересекающихся пользователях.\n",
    "\n",
    "В первой части работы мы получили по собранным данным агрегированные кумулятивные данные о посетителях и заказах по дням и построил график количества заказов по пользователям.\n",
    "\n",
    "Во второй части получили агрегированные данные о событиях, а также провели АА и АВ тестирование, результатом которого стало решение о том, что тестируемые на группе 248 нововведения вводить для всех пользователей не имеет смысла, потому что они не изменяют конверсию посетителей в заказы.\n",
    "\n"
   ],
   "metadata": {
    "id": "6K8W94AtecLu"
   }
  }
 ]
}
