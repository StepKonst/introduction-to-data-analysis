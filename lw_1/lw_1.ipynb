{
 "cells": [
  {
   "cell_type": "markdown",
   "source": [
    "Импортируем библиотеки"
   ],
   "metadata": {
    "collapsed": false
   }
  },
  {
   "cell_type": "code",
   "execution_count": 1,
   "outputs": [],
   "source": [
    "import pandas as pd\n",
    "import numpy as np"
   ],
   "metadata": {
    "collapsed": false
   }
  },
  {
   "cell_type": "markdown",
   "source": [
    "Загрузим датасет"
   ],
   "metadata": {
    "collapsed": false
   }
  },
  {
   "cell_type": "code",
   "execution_count": 2,
   "outputs": [],
   "source": [
    "df = pd.read_csv(\"4liver.csv\")"
   ],
   "metadata": {
    "collapsed": false
   }
  },
  {
   "cell_type": "markdown",
   "source": [
    "Выведем первые 20 строк при помощи метода head()"
   ],
   "metadata": {
    "collapsed": false
   }
  },
  {
   "cell_type": "code",
   "execution_count": 3,
   "outputs": [
    {
     "data": {
      "text/plain": "    Age  Gender  TotalBilirubin  Direct_Bilirubin  Alkaline_Phosphotase  \\\n0    65  Female             0.7               0.1                 187.0   \n1    62    Male            10.9               5.5                 699.0   \n2    62    Male             7.3               4.1                 490.0   \n3    58    Male             1.0               0.4                 182.0   \n4    72    Male             3.9               2.0                 195.0   \n5    46    Male             1.8               0.7                 208.0   \n6    26  Female             0.9               0.2                 154.0   \n7    29  Female             0.9               0.3                 202.0   \n8    17    Male             0.9               0.3                 202.0   \n9    55    Male             0.7               0.2                 290.0   \n10   57    Male             0.6               0.1                 210.0   \n11   72    Male             2.7               1.3                 260.0   \n12   64    Male             0.9               0.3                 310.0   \n13   74  Female             1.1               0.4                 214.0   \n14   61    Male             0.7               0.2                 145.0   \n15   25    Male             0.6               0.1                 183.0   \n16   38    Male             1.8               0.8                 342.0   \n17   33    Male             1.6               0.5                 165.0   \n18   40  Female             0.9               0.3                 293.0   \n19   40  Female             0.9               0.3                 293.0   \n\n    Alamine_Aminotransferase Aspartate_Aminotransferase  Total_Protiens  \\\n0                         16                         18             6.8   \n1                         64                        100             7.5   \n2                         60                         68             7.0   \n3                         14                         20             6.8   \n4                         27                         59             7.3   \n5                         19                         14             7.6   \n6                         16                         12             7.0   \n7                         14                         11             6.7   \n8                         22                         19             7.4   \n9                         53                         58             6.8   \n10                        51                         59             5.9   \n11                        31                         56             7.4   \n12                        61                         58             7.0   \n13                        22                         30             8.1   \n14                        53                         41             5.8   \n15                        91                         53             5.5   \n16                       168                        441             7.6   \n17                        15                         23             7.3   \n18                       232                        245             6.8   \n19                       232                        245             6.8   \n\n    Albumin  Albumin_and_Globulin_Ratio Dataset123  \n0       3.3                        0.90          1  \n1       3.2                        0.74          1  \n2       3.3                        0.89          1  \n3       3.4                        1.00          1  \n4       2.4                        0.40          1  \n5       4.4                        1.30          1  \n6       3.5                        1.00          1  \n7       3.6                        1.10          1  \n8       4.1                        1.20          2  \n9       3.4                        1.00          1  \n10      2.7                        0.80          1  \n11      3.0                        0.60          1  \n12      3.4                        0.90          2  \n13      4.1                        1.00          1  \n14      2.7                        0.87          1  \n15      2.3                        0.70          2  \n16      4.4                        1.30          1  \n17      3.5                        0.92          2  \n18      3.1                        0.80          1  \n19      3.1                        0.80          1  ",
      "text/html": "<div>\n<style scoped>\n    .dataframe tbody tr th:only-of-type {\n        vertical-align: middle;\n    }\n\n    .dataframe tbody tr th {\n        vertical-align: top;\n    }\n\n    .dataframe thead th {\n        text-align: right;\n    }\n</style>\n<table border=\"1\" class=\"dataframe\">\n  <thead>\n    <tr style=\"text-align: right;\">\n      <th></th>\n      <th>Age</th>\n      <th>Gender</th>\n      <th>TotalBilirubin</th>\n      <th>Direct_Bilirubin</th>\n      <th>Alkaline_Phosphotase</th>\n      <th>Alamine_Aminotransferase</th>\n      <th>Aspartate_Aminotransferase</th>\n      <th>Total_Protiens</th>\n      <th>Albumin</th>\n      <th>Albumin_and_Globulin_Ratio</th>\n      <th>Dataset123</th>\n    </tr>\n  </thead>\n  <tbody>\n    <tr>\n      <th>0</th>\n      <td>65</td>\n      <td>Female</td>\n      <td>0.7</td>\n      <td>0.1</td>\n      <td>187.0</td>\n      <td>16</td>\n      <td>18</td>\n      <td>6.8</td>\n      <td>3.3</td>\n      <td>0.90</td>\n      <td>1</td>\n    </tr>\n    <tr>\n      <th>1</th>\n      <td>62</td>\n      <td>Male</td>\n      <td>10.9</td>\n      <td>5.5</td>\n      <td>699.0</td>\n      <td>64</td>\n      <td>100</td>\n      <td>7.5</td>\n      <td>3.2</td>\n      <td>0.74</td>\n      <td>1</td>\n    </tr>\n    <tr>\n      <th>2</th>\n      <td>62</td>\n      <td>Male</td>\n      <td>7.3</td>\n      <td>4.1</td>\n      <td>490.0</td>\n      <td>60</td>\n      <td>68</td>\n      <td>7.0</td>\n      <td>3.3</td>\n      <td>0.89</td>\n      <td>1</td>\n    </tr>\n    <tr>\n      <th>3</th>\n      <td>58</td>\n      <td>Male</td>\n      <td>1.0</td>\n      <td>0.4</td>\n      <td>182.0</td>\n      <td>14</td>\n      <td>20</td>\n      <td>6.8</td>\n      <td>3.4</td>\n      <td>1.00</td>\n      <td>1</td>\n    </tr>\n    <tr>\n      <th>4</th>\n      <td>72</td>\n      <td>Male</td>\n      <td>3.9</td>\n      <td>2.0</td>\n      <td>195.0</td>\n      <td>27</td>\n      <td>59</td>\n      <td>7.3</td>\n      <td>2.4</td>\n      <td>0.40</td>\n      <td>1</td>\n    </tr>\n    <tr>\n      <th>5</th>\n      <td>46</td>\n      <td>Male</td>\n      <td>1.8</td>\n      <td>0.7</td>\n      <td>208.0</td>\n      <td>19</td>\n      <td>14</td>\n      <td>7.6</td>\n      <td>4.4</td>\n      <td>1.30</td>\n      <td>1</td>\n    </tr>\n    <tr>\n      <th>6</th>\n      <td>26</td>\n      <td>Female</td>\n      <td>0.9</td>\n      <td>0.2</td>\n      <td>154.0</td>\n      <td>16</td>\n      <td>12</td>\n      <td>7.0</td>\n      <td>3.5</td>\n      <td>1.00</td>\n      <td>1</td>\n    </tr>\n    <tr>\n      <th>7</th>\n      <td>29</td>\n      <td>Female</td>\n      <td>0.9</td>\n      <td>0.3</td>\n      <td>202.0</td>\n      <td>14</td>\n      <td>11</td>\n      <td>6.7</td>\n      <td>3.6</td>\n      <td>1.10</td>\n      <td>1</td>\n    </tr>\n    <tr>\n      <th>8</th>\n      <td>17</td>\n      <td>Male</td>\n      <td>0.9</td>\n      <td>0.3</td>\n      <td>202.0</td>\n      <td>22</td>\n      <td>19</td>\n      <td>7.4</td>\n      <td>4.1</td>\n      <td>1.20</td>\n      <td>2</td>\n    </tr>\n    <tr>\n      <th>9</th>\n      <td>55</td>\n      <td>Male</td>\n      <td>0.7</td>\n      <td>0.2</td>\n      <td>290.0</td>\n      <td>53</td>\n      <td>58</td>\n      <td>6.8</td>\n      <td>3.4</td>\n      <td>1.00</td>\n      <td>1</td>\n    </tr>\n    <tr>\n      <th>10</th>\n      <td>57</td>\n      <td>Male</td>\n      <td>0.6</td>\n      <td>0.1</td>\n      <td>210.0</td>\n      <td>51</td>\n      <td>59</td>\n      <td>5.9</td>\n      <td>2.7</td>\n      <td>0.80</td>\n      <td>1</td>\n    </tr>\n    <tr>\n      <th>11</th>\n      <td>72</td>\n      <td>Male</td>\n      <td>2.7</td>\n      <td>1.3</td>\n      <td>260.0</td>\n      <td>31</td>\n      <td>56</td>\n      <td>7.4</td>\n      <td>3.0</td>\n      <td>0.60</td>\n      <td>1</td>\n    </tr>\n    <tr>\n      <th>12</th>\n      <td>64</td>\n      <td>Male</td>\n      <td>0.9</td>\n      <td>0.3</td>\n      <td>310.0</td>\n      <td>61</td>\n      <td>58</td>\n      <td>7.0</td>\n      <td>3.4</td>\n      <td>0.90</td>\n      <td>2</td>\n    </tr>\n    <tr>\n      <th>13</th>\n      <td>74</td>\n      <td>Female</td>\n      <td>1.1</td>\n      <td>0.4</td>\n      <td>214.0</td>\n      <td>22</td>\n      <td>30</td>\n      <td>8.1</td>\n      <td>4.1</td>\n      <td>1.00</td>\n      <td>1</td>\n    </tr>\n    <tr>\n      <th>14</th>\n      <td>61</td>\n      <td>Male</td>\n      <td>0.7</td>\n      <td>0.2</td>\n      <td>145.0</td>\n      <td>53</td>\n      <td>41</td>\n      <td>5.8</td>\n      <td>2.7</td>\n      <td>0.87</td>\n      <td>1</td>\n    </tr>\n    <tr>\n      <th>15</th>\n      <td>25</td>\n      <td>Male</td>\n      <td>0.6</td>\n      <td>0.1</td>\n      <td>183.0</td>\n      <td>91</td>\n      <td>53</td>\n      <td>5.5</td>\n      <td>2.3</td>\n      <td>0.70</td>\n      <td>2</td>\n    </tr>\n    <tr>\n      <th>16</th>\n      <td>38</td>\n      <td>Male</td>\n      <td>1.8</td>\n      <td>0.8</td>\n      <td>342.0</td>\n      <td>168</td>\n      <td>441</td>\n      <td>7.6</td>\n      <td>4.4</td>\n      <td>1.30</td>\n      <td>1</td>\n    </tr>\n    <tr>\n      <th>17</th>\n      <td>33</td>\n      <td>Male</td>\n      <td>1.6</td>\n      <td>0.5</td>\n      <td>165.0</td>\n      <td>15</td>\n      <td>23</td>\n      <td>7.3</td>\n      <td>3.5</td>\n      <td>0.92</td>\n      <td>2</td>\n    </tr>\n    <tr>\n      <th>18</th>\n      <td>40</td>\n      <td>Female</td>\n      <td>0.9</td>\n      <td>0.3</td>\n      <td>293.0</td>\n      <td>232</td>\n      <td>245</td>\n      <td>6.8</td>\n      <td>3.1</td>\n      <td>0.80</td>\n      <td>1</td>\n    </tr>\n    <tr>\n      <th>19</th>\n      <td>40</td>\n      <td>Female</td>\n      <td>0.9</td>\n      <td>0.3</td>\n      <td>293.0</td>\n      <td>232</td>\n      <td>245</td>\n      <td>6.8</td>\n      <td>3.1</td>\n      <td>0.80</td>\n      <td>1</td>\n    </tr>\n  </tbody>\n</table>\n</div>"
     },
     "execution_count": 3,
     "metadata": {},
     "output_type": "execute_result"
    }
   ],
   "source": [
    "df.head(20)"
   ],
   "metadata": {
    "collapsed": false
   }
  },
  {
   "cell_type": "markdown",
   "source": [
    "Мы будем оценивать данные, используя метод info()"
   ],
   "metadata": {
    "collapsed": false
   }
  },
  {
   "cell_type": "code",
   "execution_count": 4,
   "outputs": [
    {
     "name": "stdout",
     "output_type": "stream",
     "text": [
      "<class 'pandas.core.frame.DataFrame'>\n",
      "RangeIndex: 587 entries, 0 to 586\n",
      "Data columns (total 11 columns):\n",
      " #   Column                      Non-Null Count  Dtype  \n",
      "---  ------                      --------------  -----  \n",
      " 0   Age                         587 non-null    int64  \n",
      " 1   Gender                      587 non-null    object \n",
      " 2   TotalBilirubin              585 non-null    float64\n",
      " 3   Direct_Bilirubin            587 non-null    float64\n",
      " 4   Alkaline_Phosphotase        586 non-null    float64\n",
      " 5   Alamine_Aminotransferase    587 non-null    int64  \n",
      " 6   Aspartate_Aminotransferase  587 non-null    object \n",
      " 7   Total_Protiens              587 non-null    float64\n",
      " 8   Albumin                     587 non-null    float64\n",
      " 9   Albumin_and_Globulin_Ratio  583 non-null    float64\n",
      " 10  Dataset123                  587 non-null    object \n",
      "dtypes: float64(6), int64(2), object(3)\n",
      "memory usage: 139.3 KB\n"
     ]
    }
   ],
   "source": [
    "df.info(memory_usage=\"deep\")"
   ],
   "metadata": {
    "collapsed": false
   }
  },
  {
   "cell_type": "markdown",
   "source": [
    "Были выявлены следующие проблемы с именами:\n",
    " - Общий билирубин не записан в змеином регистре\n",
    " - Dataset123 не отражает суть того, что хранится в колонке"
   ],
   "metadata": {
    "collapsed": false
   }
  },
  {
   "cell_type": "code",
   "execution_count": 5,
   "outputs": [],
   "source": [
    "df = df.rename(columns={\n",
    "    \"TotalBilirubin\": \"Total_Bilirubin\",\n",
    "    \"Dataset123\": \"Disease\"\n",
    "})"
   ],
   "metadata": {
    "collapsed": false
   }
  },
  {
   "cell_type": "markdown",
   "source": [
    "Проверим наличие пропусков в датасете"
   ],
   "metadata": {
    "collapsed": false
   }
  },
  {
   "cell_type": "code",
   "execution_count": 6,
   "outputs": [
    {
     "data": {
      "text/plain": "Age                           0\nGender                        0\nTotal_Bilirubin               2\nDirect_Bilirubin              0\nAlkaline_Phosphotase          1\nAlamine_Aminotransferase      0\nAspartate_Aminotransferase    0\nTotal_Protiens                0\nAlbumin                       0\nAlbumin_and_Globulin_Ratio    4\nDisease                       0\ndtype: int64"
     },
     "execution_count": 6,
     "metadata": {},
     "output_type": "execute_result"
    }
   ],
   "source": [
    "df.isna().sum()"
   ],
   "metadata": {
    "collapsed": false
   }
  },
  {
   "cell_type": "markdown",
   "source": [
    "Для того чтобы устранить пропуски изучили модель данных и решили следующее:\n",
    " - Вместо Nan значений подставить среднее значение каждого из столбцов"
   ],
   "metadata": {
    "collapsed": false
   }
  },
  {
   "cell_type": "code",
   "execution_count": 7,
   "outputs": [],
   "source": [
    "df[\"Total_Bilirubin\"] = df[\"Total_Bilirubin\"].fillna(df[\"Total_Bilirubin\"].mean())\n",
    "df[\"Alkaline_Phosphotase\"] = df[\"Alkaline_Phosphotase\"].fillna(df[\"Alkaline_Phosphotase\"].mean())\n",
    "df[\"Albumin_and_Globulin_Ratio\"] = df[\"Albumin_and_Globulin_Ratio\"].fillna(df[\"Albumin_and_Globulin_Ratio\"].mean())"
   ],
   "metadata": {
    "collapsed": false
   }
  },
  {
   "cell_type": "code",
   "execution_count": 8,
   "outputs": [
    {
     "data": {
      "text/plain": "Age                           0\nGender                        0\nTotal_Bilirubin               0\nDirect_Bilirubin              0\nAlkaline_Phosphotase          0\nAlamine_Aminotransferase      0\nAspartate_Aminotransferase    0\nTotal_Protiens                0\nAlbumin                       0\nAlbumin_and_Globulin_Ratio    0\nDisease                       0\ndtype: int64"
     },
     "execution_count": 8,
     "metadata": {},
     "output_type": "execute_result"
    }
   ],
   "source": [
    "df.isna().sum()"
   ],
   "metadata": {
    "collapsed": false
   }
  },
  {
   "cell_type": "markdown",
   "source": [
    "Проверим данные на наличие дубликатов и в случае, если они присутствуют - удалим и обновим индексацию"
   ],
   "metadata": {
    "collapsed": false
   }
  },
  {
   "cell_type": "code",
   "execution_count": 9,
   "outputs": [
    {
     "data": {
      "text/plain": "15"
     },
     "execution_count": 9,
     "metadata": {},
     "output_type": "execute_result"
    }
   ],
   "source": [
    "df.duplicated().sum()"
   ],
   "metadata": {
    "collapsed": false
   }
  },
  {
   "cell_type": "code",
   "execution_count": 10,
   "outputs": [],
   "source": [
    "df = df.drop_duplicates().reset_index()"
   ],
   "metadata": {
    "collapsed": false
   }
  },
  {
   "cell_type": "code",
   "execution_count": 11,
   "outputs": [
    {
     "data": {
      "text/plain": "0"
     },
     "execution_count": 11,
     "metadata": {},
     "output_type": "execute_result"
    }
   ],
   "source": [
    "df.duplicated().sum()"
   ],
   "metadata": {
    "collapsed": false
   }
  },
  {
   "cell_type": "markdown",
   "source": [
    "Теперь займемся поиском неявных дубликатов. Для этого посмотрим на уникальные значения некоторых столбцов"
   ],
   "metadata": {
    "collapsed": false
   }
  },
  {
   "cell_type": "markdown",
   "source": [
    "1. В столбце \"Пол\" удалось обнаружить некорректное наименование пола"
   ],
   "metadata": {
    "collapsed": false
   }
  },
  {
   "cell_type": "code",
   "execution_count": 12,
   "outputs": [
    {
     "data": {
      "text/plain": "array(['Female', 'Male', 'Mal'], dtype=object)"
     },
     "execution_count": 12,
     "metadata": {},
     "output_type": "execute_result"
    }
   ],
   "source": [
    "df[\"Gender\"].unique()"
   ],
   "metadata": {
    "collapsed": false
   }
  },
  {
   "cell_type": "markdown",
   "source": [
    "2. В столбце \"Болезни\" обнаружилось значение \"yes\", не отражающее наличие болезни"
   ],
   "metadata": {
    "collapsed": false
   }
  },
  {
   "cell_type": "code",
   "execution_count": 13,
   "outputs": [
    {
     "data": {
      "text/plain": "array(['1', '2', 'yes'], dtype=object)"
     },
     "execution_count": 13,
     "metadata": {},
     "output_type": "execute_result"
    }
   ],
   "source": [
    "df[\"Disease\"].unique()"
   ],
   "metadata": {
    "collapsed": false
   }
  },
  {
   "cell_type": "markdown",
   "source": [
    "3. В столбце \"Аспартатаминотрансфераза\" обнаружили некорректное значение \"3а4\""
   ],
   "metadata": {
    "collapsed": false
   }
  },
  {
   "cell_type": "code",
   "execution_count": 14,
   "outputs": [
    {
     "data": {
      "text/plain": "array(['18', '100', '68', '20', '59', '14', '12', '11', '19', '58', '56',\n       '30', '41', '53', '441', '23', '245', '28', '34', '66', '55', '45',\n       '731', '850', '21', '111', '44', '57', '80', '36', '77', '73',\n       '50', '110', '47', '576', '15', '178', '27', '960', '406', '150',\n       '61', '54', '24', '16', '43', '97', '86', '88', '95', '26', '17',\n       '397', '29', '22', '127', '79', '142', '152', '31', '3a4', '350',\n       '794', '400', '202', '630', '950', '161', '405', '92', '39', '10',\n       '116', '98', '285', '64', '149', '2946', '1600', '1050', '275',\n       '113', '84', '25', '40', '83', '65', '4929', '90', '140', '139',\n       '87', '38', '42', '233', '138', '82', '35', '32', '187', '62',\n       '74', '67', '37', '602', '63', '99', '103', '145', '247', '114',\n       '104', '51', '60', '1500', '33', '180', '148', '46', '13', '85',\n       '231', '156', '89', '298', '48', '130', '75', '500', '105', '250',\n       '232', '143', '176', '70', '52', '91', '236', '108', '190', '71',\n       '126', '141', '102', '81', '511', '72', '135', '497', '844', '368',\n       '188', '248', '401', '76', '221', '235', '185', '230', '540',\n       '181', '155', '200', '186', '623', '220', '78', '348', '125',\n       '330', '562', '384', '367', '101', '168', '134', '49'],\n      dtype=object)"
     },
     "execution_count": 14,
     "metadata": {},
     "output_type": "execute_result"
    }
   ],
   "source": [
    "df[\"Aspartate_Aminotransferase\"].unique()"
   ],
   "metadata": {
    "collapsed": false
   }
  },
  {
   "cell_type": "code",
   "execution_count": 15,
   "outputs": [],
   "source": [
    "df[\"Gender\"] = df[\"Gender\"].replace(\"Mal\", \"Male\")\n",
    "df[\"Disease\"] = df[\"Disease\"].replace(\"yes\", \"1\")\n",
    "df[\"Aspartate_Aminotransferase\"] = df[\"Aspartate_Aminotransferase\"].replace(\"3a4\", \"34\")"
   ],
   "metadata": {
    "collapsed": false
   }
  },
  {
   "cell_type": "markdown",
   "source": [
    "Проверили все ли типы данных соответствуют действительности для этого воспользовались функцией dtypes"
   ],
   "metadata": {
    "collapsed": false
   }
  },
  {
   "cell_type": "code",
   "execution_count": 16,
   "outputs": [
    {
     "data": {
      "text/plain": "index                           int64\nAge                             int64\nGender                         object\nTotal_Bilirubin               float64\nDirect_Bilirubin              float64\nAlkaline_Phosphotase          float64\nAlamine_Aminotransferase        int64\nAspartate_Aminotransferase     object\nTotal_Protiens                float64\nAlbumin                       float64\nAlbumin_and_Globulin_Ratio    float64\nDisease                        object\ndtype: object"
     },
     "execution_count": 16,
     "metadata": {},
     "output_type": "execute_result"
    }
   ],
   "source": [
    "df.dtypes"
   ],
   "metadata": {
    "collapsed": false
   }
  },
  {
   "cell_type": "markdown",
   "source": [
    "Сверив типы, можно увидеть некоторые несоответствия в столбцах:\n",
    "- gender\n",
    "- Aspartate_Aminotransferase\n",
    "- disease"
   ],
   "metadata": {
    "collapsed": false
   }
  },
  {
   "cell_type": "code",
   "execution_count": 17,
   "outputs": [],
   "source": [
    "df[[\"Aspartate_Aminotransferase\"]] = df[[\"Aspartate_Aminotransferase\"]].astype(np.int64)\n",
    "df[[\"Disease\"]] = df[[\"Disease\"]].astype(np.int64)\n",
    "df[[\"Gender\"]] = df[[\"Gender\"]].astype(\"string\")"
   ],
   "metadata": {
    "collapsed": false
   }
  },
  {
   "cell_type": "code",
   "execution_count": 18,
   "outputs": [
    {
     "data": {
      "text/plain": "index                           int64\nAge                             int64\nGender                         string\nTotal_Bilirubin               float64\nDirect_Bilirubin              float64\nAlkaline_Phosphotase          float64\nAlamine_Aminotransferase        int64\nAspartate_Aminotransferase      int64\nTotal_Protiens                float64\nAlbumin                       float64\nAlbumin_and_Globulin_Ratio    float64\nDisease                         int64\ndtype: object"
     },
     "execution_count": 18,
     "metadata": {},
     "output_type": "execute_result"
    }
   ],
   "source": [
    "df.dtypes"
   ],
   "metadata": {
    "collapsed": false
   }
  },
  {
   "cell_type": "markdown",
   "source": [
    "Создали сводные таблицы с помощью pivot_table, которые показывают:\n",
    "- Средний билирубин для каждого пола\n",
    "- Средний показатель для двух групп (тех, кто болеет и тот, кто не болеет)"
   ],
   "metadata": {
    "collapsed": false
   }
  },
  {
   "cell_type": "code",
   "execution_count": 19,
   "outputs": [
    {
     "data": {
      "text/plain": "Gender  Female    Male  \nAge                     \n4          NaN  0.850000\n6          NaN  0.600000\n7         27.2  0.500000\n8          0.9       NaN\n10         0.8       NaN\n..         ...       ...\n75         0.8  4.516667\n78         NaN  1.000000\n84         0.7       NaN\n85         1.0       NaN\n90         NaN  1.100000\n\n[72 rows x 2 columns]",
      "text/html": "<div>\n<style scoped>\n    .dataframe tbody tr th:only-of-type {\n        vertical-align: middle;\n    }\n\n    .dataframe tbody tr th {\n        vertical-align: top;\n    }\n\n    .dataframe thead th {\n        text-align: right;\n    }\n</style>\n<table border=\"1\" class=\"dataframe\">\n  <thead>\n    <tr style=\"text-align: right;\">\n      <th>Gender</th>\n      <th>Female</th>\n      <th>Male</th>\n    </tr>\n    <tr>\n      <th>Age</th>\n      <th></th>\n      <th></th>\n    </tr>\n  </thead>\n  <tbody>\n    <tr>\n      <th>4</th>\n      <td>NaN</td>\n      <td>0.850000</td>\n    </tr>\n    <tr>\n      <th>6</th>\n      <td>NaN</td>\n      <td>0.600000</td>\n    </tr>\n    <tr>\n      <th>7</th>\n      <td>27.2</td>\n      <td>0.500000</td>\n    </tr>\n    <tr>\n      <th>8</th>\n      <td>0.9</td>\n      <td>NaN</td>\n    </tr>\n    <tr>\n      <th>10</th>\n      <td>0.8</td>\n      <td>NaN</td>\n    </tr>\n    <tr>\n      <th>...</th>\n      <td>...</td>\n      <td>...</td>\n    </tr>\n    <tr>\n      <th>75</th>\n      <td>0.8</td>\n      <td>4.516667</td>\n    </tr>\n    <tr>\n      <th>78</th>\n      <td>NaN</td>\n      <td>1.000000</td>\n    </tr>\n    <tr>\n      <th>84</th>\n      <td>0.7</td>\n      <td>NaN</td>\n    </tr>\n    <tr>\n      <th>85</th>\n      <td>1.0</td>\n      <td>NaN</td>\n    </tr>\n    <tr>\n      <th>90</th>\n      <td>NaN</td>\n      <td>1.100000</td>\n    </tr>\n  </tbody>\n</table>\n<p>72 rows × 2 columns</p>\n</div>"
     },
     "execution_count": 19,
     "metadata": {},
     "output_type": "execute_result"
    }
   ],
   "source": [
    "data_pivot = pd.pivot_table(\n",
    "    df,\n",
    "    index=\"Age\",\n",
    "    columns=\"Gender\",\n",
    "    values=\"Total_Bilirubin\",\n",
    "    aggfunc=np.average\n",
    ")\n",
    "data_pivot"
   ],
   "metadata": {
    "collapsed": false
   }
  },
  {
   "cell_type": "code",
   "execution_count": 20,
   "outputs": [
    {
     "data": {
      "text/plain": "Gender     Female    Male  \nDisease                    \n1        3.116484  4.518623\n2        0.871429  1.230043",
      "text/html": "<div>\n<style scoped>\n    .dataframe tbody tr th:only-of-type {\n        vertical-align: middle;\n    }\n\n    .dataframe tbody tr th {\n        vertical-align: top;\n    }\n\n    .dataframe thead th {\n        text-align: right;\n    }\n</style>\n<table border=\"1\" class=\"dataframe\">\n  <thead>\n    <tr style=\"text-align: right;\">\n      <th>Gender</th>\n      <th>Female</th>\n      <th>Male</th>\n    </tr>\n    <tr>\n      <th>Disease</th>\n      <th></th>\n      <th></th>\n    </tr>\n  </thead>\n  <tbody>\n    <tr>\n      <th>1</th>\n      <td>3.116484</td>\n      <td>4.518623</td>\n    </tr>\n    <tr>\n      <th>2</th>\n      <td>0.871429</td>\n      <td>1.230043</td>\n    </tr>\n  </tbody>\n</table>\n</div>"
     },
     "execution_count": 20,
     "metadata": {},
     "output_type": "execute_result"
    }
   ],
   "source": [
    "data_pivot = pd.pivot_table(\n",
    "    df,\n",
    "    index=\"Disease\",\n",
    "    columns=\"Gender\",\n",
    "    values=\"Total_Bilirubin\",\n",
    "    aggfunc=np.average\n",
    ")\n",
    "data_pivot"
   ],
   "metadata": {
    "collapsed": false
   }
  },
  {
   "cell_type": "markdown",
   "source": [
    "## Дополнительное задание\n",
    "Добавить новый столбец, в котором содержались бы категории возраста (ребенок, взрослый, пенсионер) после чего построить новую сводную таблицу"
   ],
   "metadata": {
    "collapsed": false
   }
  },
  {
   "cell_type": "code",
   "execution_count": 21,
   "outputs": [],
   "source": [
    "df = df.assign(\n",
    "    status= lambda x: x[\"Age\"].apply(lambda y: \"Ребенок\" if y < 18 else(\"Взрослый\" if y < 60 else \"Пенсионер\"))\n",
    ")"
   ],
   "metadata": {
    "collapsed": false
   }
  },
  {
   "cell_type": "code",
   "execution_count": 22,
   "outputs": [
    {
     "data": {
      "text/plain": "    index  Age  Gender  Total_Bilirubin  Direct_Bilirubin  \\\n0       0   65  Female              0.7               0.1   \n1       1   62    Male             10.9               5.5   \n2       2   62    Male              7.3               4.1   \n3       3   58    Male              1.0               0.4   \n4       4   72    Male              3.9               2.0   \n5       5   46    Male              1.8               0.7   \n6       6   26  Female              0.9               0.2   \n7       7   29  Female              0.9               0.3   \n8       8   17    Male              0.9               0.3   \n9       9   55    Male              0.7               0.2   \n10     10   57    Male              0.6               0.1   \n11     11   72    Male              2.7               1.3   \n12     12   64    Male              0.9               0.3   \n13     13   74  Female              1.1               0.4   \n14     14   61    Male              0.7               0.2   \n15     15   25    Male              0.6               0.1   \n16     16   38    Male              1.8               0.8   \n17     17   33    Male              1.6               0.5   \n18     18   40  Female              0.9               0.3   \n19     20   51    Male              2.2               1.0   \n\n    Alkaline_Phosphotase  Alamine_Aminotransferase  \\\n0                  187.0                        16   \n1                  699.0                        64   \n2                  490.0                        60   \n3                  182.0                        14   \n4                  195.0                        27   \n5                  208.0                        19   \n6                  154.0                        16   \n7                  202.0                        14   \n8                  202.0                        22   \n9                  290.0                        53   \n10                 210.0                        51   \n11                 260.0                        31   \n12                 310.0                        61   \n13                 214.0                        22   \n14                 145.0                        53   \n15                 183.0                        91   \n16                 342.0                       168   \n17                 165.0                        15   \n18                 293.0                       232   \n19                 610.0                        17   \n\n    Aspartate_Aminotransferase  Total_Protiens  Albumin  \\\n0                           18             6.8      3.3   \n1                          100             7.5      3.2   \n2                           68             7.0      3.3   \n3                           20             6.8      3.4   \n4                           59             7.3      2.4   \n5                           14             7.6      4.4   \n6                           12             7.0      3.5   \n7                           11             6.7      3.6   \n8                           19             7.4      4.1   \n9                           58             6.8      3.4   \n10                          59             5.9      2.7   \n11                          56             7.4      3.0   \n12                          58             7.0      3.4   \n13                          30             8.1      4.1   \n14                          41             5.8      2.7   \n15                          53             5.5      2.3   \n16                         441             7.6      4.4   \n17                          23             7.3      3.5   \n18                         245             6.8      3.1   \n19                          28             7.3      2.6   \n\n    Albumin_and_Globulin_Ratio  Disease     status  \n0                         0.90        1  Пенсионер  \n1                         0.74        1  Пенсионер  \n2                         0.89        1  Пенсионер  \n3                         1.00        1   Взрослый  \n4                         0.40        1  Пенсионер  \n5                         1.30        1   Взрослый  \n6                         1.00        1   Взрослый  \n7                         1.10        1   Взрослый  \n8                         1.20        2    Ребенок  \n9                         1.00        1   Взрослый  \n10                        0.80        1   Взрослый  \n11                        0.60        1  Пенсионер  \n12                        0.90        2  Пенсионер  \n13                        1.00        1  Пенсионер  \n14                        0.87        1  Пенсионер  \n15                        0.70        2   Взрослый  \n16                        1.30        1   Взрослый  \n17                        0.92        2   Взрослый  \n18                        0.80        1   Взрослый  \n19                        0.55        1   Взрослый  ",
      "text/html": "<div>\n<style scoped>\n    .dataframe tbody tr th:only-of-type {\n        vertical-align: middle;\n    }\n\n    .dataframe tbody tr th {\n        vertical-align: top;\n    }\n\n    .dataframe thead th {\n        text-align: right;\n    }\n</style>\n<table border=\"1\" class=\"dataframe\">\n  <thead>\n    <tr style=\"text-align: right;\">\n      <th></th>\n      <th>index</th>\n      <th>Age</th>\n      <th>Gender</th>\n      <th>Total_Bilirubin</th>\n      <th>Direct_Bilirubin</th>\n      <th>Alkaline_Phosphotase</th>\n      <th>Alamine_Aminotransferase</th>\n      <th>Aspartate_Aminotransferase</th>\n      <th>Total_Protiens</th>\n      <th>Albumin</th>\n      <th>Albumin_and_Globulin_Ratio</th>\n      <th>Disease</th>\n      <th>status</th>\n    </tr>\n  </thead>\n  <tbody>\n    <tr>\n      <th>0</th>\n      <td>0</td>\n      <td>65</td>\n      <td>Female</td>\n      <td>0.7</td>\n      <td>0.1</td>\n      <td>187.0</td>\n      <td>16</td>\n      <td>18</td>\n      <td>6.8</td>\n      <td>3.3</td>\n      <td>0.90</td>\n      <td>1</td>\n      <td>Пенсионер</td>\n    </tr>\n    <tr>\n      <th>1</th>\n      <td>1</td>\n      <td>62</td>\n      <td>Male</td>\n      <td>10.9</td>\n      <td>5.5</td>\n      <td>699.0</td>\n      <td>64</td>\n      <td>100</td>\n      <td>7.5</td>\n      <td>3.2</td>\n      <td>0.74</td>\n      <td>1</td>\n      <td>Пенсионер</td>\n    </tr>\n    <tr>\n      <th>2</th>\n      <td>2</td>\n      <td>62</td>\n      <td>Male</td>\n      <td>7.3</td>\n      <td>4.1</td>\n      <td>490.0</td>\n      <td>60</td>\n      <td>68</td>\n      <td>7.0</td>\n      <td>3.3</td>\n      <td>0.89</td>\n      <td>1</td>\n      <td>Пенсионер</td>\n    </tr>\n    <tr>\n      <th>3</th>\n      <td>3</td>\n      <td>58</td>\n      <td>Male</td>\n      <td>1.0</td>\n      <td>0.4</td>\n      <td>182.0</td>\n      <td>14</td>\n      <td>20</td>\n      <td>6.8</td>\n      <td>3.4</td>\n      <td>1.00</td>\n      <td>1</td>\n      <td>Взрослый</td>\n    </tr>\n    <tr>\n      <th>4</th>\n      <td>4</td>\n      <td>72</td>\n      <td>Male</td>\n      <td>3.9</td>\n      <td>2.0</td>\n      <td>195.0</td>\n      <td>27</td>\n      <td>59</td>\n      <td>7.3</td>\n      <td>2.4</td>\n      <td>0.40</td>\n      <td>1</td>\n      <td>Пенсионер</td>\n    </tr>\n    <tr>\n      <th>5</th>\n      <td>5</td>\n      <td>46</td>\n      <td>Male</td>\n      <td>1.8</td>\n      <td>0.7</td>\n      <td>208.0</td>\n      <td>19</td>\n      <td>14</td>\n      <td>7.6</td>\n      <td>4.4</td>\n      <td>1.30</td>\n      <td>1</td>\n      <td>Взрослый</td>\n    </tr>\n    <tr>\n      <th>6</th>\n      <td>6</td>\n      <td>26</td>\n      <td>Female</td>\n      <td>0.9</td>\n      <td>0.2</td>\n      <td>154.0</td>\n      <td>16</td>\n      <td>12</td>\n      <td>7.0</td>\n      <td>3.5</td>\n      <td>1.00</td>\n      <td>1</td>\n      <td>Взрослый</td>\n    </tr>\n    <tr>\n      <th>7</th>\n      <td>7</td>\n      <td>29</td>\n      <td>Female</td>\n      <td>0.9</td>\n      <td>0.3</td>\n      <td>202.0</td>\n      <td>14</td>\n      <td>11</td>\n      <td>6.7</td>\n      <td>3.6</td>\n      <td>1.10</td>\n      <td>1</td>\n      <td>Взрослый</td>\n    </tr>\n    <tr>\n      <th>8</th>\n      <td>8</td>\n      <td>17</td>\n      <td>Male</td>\n      <td>0.9</td>\n      <td>0.3</td>\n      <td>202.0</td>\n      <td>22</td>\n      <td>19</td>\n      <td>7.4</td>\n      <td>4.1</td>\n      <td>1.20</td>\n      <td>2</td>\n      <td>Ребенок</td>\n    </tr>\n    <tr>\n      <th>9</th>\n      <td>9</td>\n      <td>55</td>\n      <td>Male</td>\n      <td>0.7</td>\n      <td>0.2</td>\n      <td>290.0</td>\n      <td>53</td>\n      <td>58</td>\n      <td>6.8</td>\n      <td>3.4</td>\n      <td>1.00</td>\n      <td>1</td>\n      <td>Взрослый</td>\n    </tr>\n    <tr>\n      <th>10</th>\n      <td>10</td>\n      <td>57</td>\n      <td>Male</td>\n      <td>0.6</td>\n      <td>0.1</td>\n      <td>210.0</td>\n      <td>51</td>\n      <td>59</td>\n      <td>5.9</td>\n      <td>2.7</td>\n      <td>0.80</td>\n      <td>1</td>\n      <td>Взрослый</td>\n    </tr>\n    <tr>\n      <th>11</th>\n      <td>11</td>\n      <td>72</td>\n      <td>Male</td>\n      <td>2.7</td>\n      <td>1.3</td>\n      <td>260.0</td>\n      <td>31</td>\n      <td>56</td>\n      <td>7.4</td>\n      <td>3.0</td>\n      <td>0.60</td>\n      <td>1</td>\n      <td>Пенсионер</td>\n    </tr>\n    <tr>\n      <th>12</th>\n      <td>12</td>\n      <td>64</td>\n      <td>Male</td>\n      <td>0.9</td>\n      <td>0.3</td>\n      <td>310.0</td>\n      <td>61</td>\n      <td>58</td>\n      <td>7.0</td>\n      <td>3.4</td>\n      <td>0.90</td>\n      <td>2</td>\n      <td>Пенсионер</td>\n    </tr>\n    <tr>\n      <th>13</th>\n      <td>13</td>\n      <td>74</td>\n      <td>Female</td>\n      <td>1.1</td>\n      <td>0.4</td>\n      <td>214.0</td>\n      <td>22</td>\n      <td>30</td>\n      <td>8.1</td>\n      <td>4.1</td>\n      <td>1.00</td>\n      <td>1</td>\n      <td>Пенсионер</td>\n    </tr>\n    <tr>\n      <th>14</th>\n      <td>14</td>\n      <td>61</td>\n      <td>Male</td>\n      <td>0.7</td>\n      <td>0.2</td>\n      <td>145.0</td>\n      <td>53</td>\n      <td>41</td>\n      <td>5.8</td>\n      <td>2.7</td>\n      <td>0.87</td>\n      <td>1</td>\n      <td>Пенсионер</td>\n    </tr>\n    <tr>\n      <th>15</th>\n      <td>15</td>\n      <td>25</td>\n      <td>Male</td>\n      <td>0.6</td>\n      <td>0.1</td>\n      <td>183.0</td>\n      <td>91</td>\n      <td>53</td>\n      <td>5.5</td>\n      <td>2.3</td>\n      <td>0.70</td>\n      <td>2</td>\n      <td>Взрослый</td>\n    </tr>\n    <tr>\n      <th>16</th>\n      <td>16</td>\n      <td>38</td>\n      <td>Male</td>\n      <td>1.8</td>\n      <td>0.8</td>\n      <td>342.0</td>\n      <td>168</td>\n      <td>441</td>\n      <td>7.6</td>\n      <td>4.4</td>\n      <td>1.30</td>\n      <td>1</td>\n      <td>Взрослый</td>\n    </tr>\n    <tr>\n      <th>17</th>\n      <td>17</td>\n      <td>33</td>\n      <td>Male</td>\n      <td>1.6</td>\n      <td>0.5</td>\n      <td>165.0</td>\n      <td>15</td>\n      <td>23</td>\n      <td>7.3</td>\n      <td>3.5</td>\n      <td>0.92</td>\n      <td>2</td>\n      <td>Взрослый</td>\n    </tr>\n    <tr>\n      <th>18</th>\n      <td>18</td>\n      <td>40</td>\n      <td>Female</td>\n      <td>0.9</td>\n      <td>0.3</td>\n      <td>293.0</td>\n      <td>232</td>\n      <td>245</td>\n      <td>6.8</td>\n      <td>3.1</td>\n      <td>0.80</td>\n      <td>1</td>\n      <td>Взрослый</td>\n    </tr>\n    <tr>\n      <th>19</th>\n      <td>20</td>\n      <td>51</td>\n      <td>Male</td>\n      <td>2.2</td>\n      <td>1.0</td>\n      <td>610.0</td>\n      <td>17</td>\n      <td>28</td>\n      <td>7.3</td>\n      <td>2.6</td>\n      <td>0.55</td>\n      <td>1</td>\n      <td>Взрослый</td>\n    </tr>\n  </tbody>\n</table>\n</div>"
     },
     "execution_count": 22,
     "metadata": {},
     "output_type": "execute_result"
    }
   ],
   "source": [
    "df.head(20)"
   ],
   "metadata": {
    "collapsed": false
   }
  },
  {
   "cell_type": "markdown",
   "source": [
    "Сводная таблица будет отображать средний билирубин у каждой из категории по возрасту"
   ],
   "metadata": {
    "collapsed": false
   }
  },
  {
   "cell_type": "code",
   "execution_count": 23,
   "outputs": [
    {
     "data": {
      "text/plain": "Gender       Female    Male  \nstatus                       \nВзрослый   2.413274  3.839304\nПенсионер  1.105000  3.454464\nРебенок    4.500000  1.344444",
      "text/html": "<div>\n<style scoped>\n    .dataframe tbody tr th:only-of-type {\n        vertical-align: middle;\n    }\n\n    .dataframe tbody tr th {\n        vertical-align: top;\n    }\n\n    .dataframe thead th {\n        text-align: right;\n    }\n</style>\n<table border=\"1\" class=\"dataframe\">\n  <thead>\n    <tr style=\"text-align: right;\">\n      <th>Gender</th>\n      <th>Female</th>\n      <th>Male</th>\n    </tr>\n    <tr>\n      <th>status</th>\n      <th></th>\n      <th></th>\n    </tr>\n  </thead>\n  <tbody>\n    <tr>\n      <th>Взрослый</th>\n      <td>2.413274</td>\n      <td>3.839304</td>\n    </tr>\n    <tr>\n      <th>Пенсионер</th>\n      <td>1.105000</td>\n      <td>3.454464</td>\n    </tr>\n    <tr>\n      <th>Ребенок</th>\n      <td>4.500000</td>\n      <td>1.344444</td>\n    </tr>\n  </tbody>\n</table>\n</div>"
     },
     "execution_count": 23,
     "metadata": {},
     "output_type": "execute_result"
    }
   ],
   "source": [
    "data_pivot = pd.pivot_table(\n",
    "    df,\n",
    "    index=\"status\",\n",
    "    columns=\"Gender\",\n",
    "    values=\"Total_Bilirubin\",\n",
    "    aggfunc=np.average\n",
    ")\n",
    "data_pivot"
   ],
   "metadata": {
    "collapsed": false
   }
  },
  {
   "cell_type": "code",
   "execution_count": null,
   "outputs": [],
   "source": [],
   "metadata": {
    "collapsed": false
   }
  }
 ],
 "metadata": {
  "kernelspec": {
   "display_name": "Python 3",
   "language": "python",
   "name": "python3"
  },
  "language_info": {
   "codemirror_mode": {
    "name": "ipython",
    "version": 2
   },
   "file_extension": ".py",
   "mimetype": "text/x-python",
   "name": "python",
   "nbconvert_exporter": "python",
   "pygments_lexer": "ipython2",
   "version": "2.7.6"
  }
 },
 "nbformat": 4,
 "nbformat_minor": 0
}
